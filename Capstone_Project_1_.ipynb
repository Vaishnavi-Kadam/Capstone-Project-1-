{
  "cells": [
    {
      "cell_type": "markdown",
      "id": "1081cf47",
      "metadata": {
        "papermill": {
          "duration": 0.013924,
          "end_time": "2022-11-24T17:52:18.037535",
          "exception": false,
          "start_time": "2022-11-24T17:52:18.023611",
          "status": "completed"
        },
        "tags": [],
        "id": "1081cf47"
      },
      "source": [
        "# **Business Problem**\n",
        "\"Predict behavior to retain customers. You can analyze all relevant customer cd and develop focused customer retention programs.\"\n",
        "\n",
        "**Content**\n",
        "There are 7043 rows where each row represents a unique costumer, while the 21 columns with 19 feature containing information about customer’s services, account and demographic cd.\n",
        "\n",
        "The cd set includes information about:\n",
        "\n",
        "*(1) Demographic Information*\n",
        "\n",
        "gender: Whether the customer is a female or a male (Female, Male)\n",
        "\n",
        "---\n",
        "\n",
        "\n",
        "SeniorCitizen: Whether the customer is a senior citizen or not (0, 1)\n",
        "\n",
        "---\n",
        "\n",
        "\n",
        "Partner: Whether the customer has a partner or not (Yes, No)\n",
        "\n",
        "---\n",
        "\n",
        "\n",
        "Dependents: Whether the customer has dependents or not (Yes, No)\n",
        "\n",
        "---\n",
        "\n",
        "\n",
        "\n",
        "*(2) Customer Account Information*\n",
        "\n",
        "tenure: Number of months the customer has stayed with the company(Multiple different numeric values)\n",
        "\n",
        "---\n",
        "\n",
        "\n",
        "Contract: Indicates the customer’s current contract type (Month-to-Month, One year, Two year)\n",
        "\n",
        "---\n",
        "\n",
        "\n",
        "PaperlessBilling: Whether the customer has paperless billing or not (Yes, No)\n",
        "\n",
        "---\n",
        "\n",
        "\n",
        "PaymentMethod: The customer’s payment method (Electronic check, Mailed check, Bank transfer (automatic), Credit - Card (automatic))\n",
        "\n",
        "---\n",
        "\n",
        "\n",
        "MontlyCharges: The amount charged to the customer monthly (Multiple different numeric values)\n",
        "\n",
        "---\n",
        "\n",
        "\n",
        "TotalCharges: The total amount charged to the customer (Multiple different numeric values)\n",
        "\n",
        "---\n",
        "\n",
        "\n",
        "\n",
        "*(3) Service Information*\n",
        "\n",
        "PhoneService: Whether the customer has a phone service or not (Yes, No)\n",
        "\n",
        "---\n",
        "\n",
        "\n",
        "MultipleLines: Whether the customer has multiple lines or not (No phone service, No, Yes)\n",
        "InternetServices: Whether the customer is subscribed to Internet service with the company (DSL, Fiber optic, No)\n",
        "\n",
        "---\n",
        "\n",
        "\n",
        "OnlineSecurity: Whether the customer has online security or not (No internet service, No, Yes)\n",
        "\n",
        "---\n",
        "\n",
        "\n",
        "OnlineBackup: Whether the customer has online backup or not (No internet service, No, Yes)\n",
        "\n",
        "---\n",
        "\n",
        "\n",
        "DeviceProtection: Whether the customer has device protection or not (No internet service, No, Yes)\n",
        "\n",
        "---\n",
        "\n",
        "\n",
        "TechSupport: Whether the customer has tech support or not (No internet service, No, Yes)\n",
        "\n",
        "---\n",
        "\n",
        "\n",
        "StreamingTV: Whether the customer has streaming TV or not (No internet service, No, Yes)\n",
        "\n",
        "---\n",
        "\n",
        "\n",
        "StreamingMovies: Whether the customer has streaming movies or not (No internet service, No, Yes)\n",
        "\n",
        "\n"
      ]
    },
    {
      "cell_type": "markdown",
      "source": [
        "#**Importing all the needed libraries/ packages**"
      ],
      "metadata": {
        "id": "8o99fKtVon3B"
      },
      "id": "8o99fKtVon3B"
    },
    {
      "cell_type": "code",
      "execution_count": 2,
      "id": "eabd43cd",
      "metadata": {
        "_cell_guid": "b1076dfc-b9ad-4769-8c92-a6c4dae69d19",
        "_uuid": "8f2839f25d086af736a60e9eeb907d3b93b6e0e5",
        "execution": {
          "iopub.execute_input": "2022-11-24T17:52:18.067148Z",
          "iopub.status.busy": "2022-11-24T17:52:18.066653Z",
          "iopub.status.idle": "2022-11-24T17:52:19.825696Z",
          "shell.execute_reply": "2022-11-24T17:52:19.824711Z"
        },
        "papermill": {
          "duration": 1.777808,
          "end_time": "2022-11-24T17:52:19.828563",
          "exception": false,
          "start_time": "2022-11-24T17:52:18.050755",
          "status": "completed"
        },
        "tags": [],
        "id": "eabd43cd"
      },
      "outputs": [],
      "source": [
        "import numpy as np # linear algebra\n",
        "import pandas as pd# cd processing, CSV file I/O (e.g. pd.read_csv)\n",
        "import seaborn as sns # cd visualization\n",
        "import matplotlib.pyplot as plt # cd Visualization \n",
        "from sklearn.preprocessing import OneHotEncoder\n",
        "from sklearn.compose import make_column_transformer\n",
        "import xgboost as xgb\n",
        "from sklearn.preprocessing import StandardScaler\n",
        "from imblearn.over_sampling import SMOTE \n",
        "from sklearn.model_selection import train_test_split\n",
        "from sklearn.linear_model import LogisticRegression\n",
        "from sklearn.preprocessing import LabelEncoder\n",
        "label_encoder = LabelEncoder()\n",
        "from sklearn.model_selection import GridSearchCV\n",
        "from sklearn.ensemble import RandomForestClassifier\n",
        "from sklearn.metrics import classification_report\n",
        "\n",
        "import warnings\n",
        "warnings.filterwarnings(\"ignore\")"
      ]
    },
    {
      "cell_type": "markdown",
      "id": "7acbe259",
      "metadata": {
        "papermill": {
          "duration": 0.011768,
          "end_time": "2022-11-24T17:52:19.852950",
          "exception": false,
          "start_time": "2022-11-24T17:52:19.841182",
          "status": "completed"
        },
        "tags": [],
        "id": "7acbe259"
      },
      "source": [
        "# 1.  **Load cd**"
      ]
    },
    {
      "cell_type": "code",
      "execution_count": 3,
      "id": "2cedb22d",
      "metadata": {
        "execution": {
          "iopub.execute_input": "2022-11-24T17:52:19.880094Z",
          "iopub.status.busy": "2022-11-24T17:52:19.878921Z",
          "iopub.status.idle": "2022-11-24T17:52:19.979560Z",
          "shell.execute_reply": "2022-11-24T17:52:19.978475Z"
        },
        "papermill": {
          "duration": 0.11763,
          "end_time": "2022-11-24T17:52:19.982760",
          "exception": false,
          "start_time": "2022-11-24T17:52:19.865130",
          "status": "completed"
        },
        "tags": [],
        "id": "2cedb22d"
      },
      "outputs": [],
      "source": [
        "cd=pd.read_csv(r'/content/drive/MyDrive/Churn.csv')"
      ]
    },
    {
      "cell_type": "markdown",
      "source": [
        "## **Checking out the cd** "
      ],
      "metadata": {
        "id": "84q6_mv2qcb3"
      },
      "id": "84q6_mv2qcb3"
    },
    {
      "cell_type": "code",
      "source": [
        "cd.head()"
      ],
      "metadata": {
        "colab": {
          "base_uri": "https://localhost:8080/",
          "height": 386
        },
        "id": "-eAP3l6Gq54i",
        "outputId": "ffc4a2f6-ee27-4340-be48-b49ad6d233b9"
      },
      "id": "-eAP3l6Gq54i",
      "execution_count": 4,
      "outputs": [
        {
          "output_type": "execute_result",
          "data": {
            "text/plain": [
              "   customerID  gender  SeniorCitizen Partner Dependents  tenure PhoneService  \\\n",
              "0  7590-VHVEG  Female              0     Yes         No       1           No   \n",
              "1  5575-GNVDE    Male              0      No         No      34          Yes   \n",
              "2  3668-QPYBK    Male              0      No         No       2          Yes   \n",
              "3  7795-CFOCW    Male              0      No         No      45           No   \n",
              "4  9237-HQITU  Female              0      No         No       2          Yes   \n",
              "\n",
              "      MultipleLines InternetService OnlineSecurity  ... DeviceProtection  \\\n",
              "0  No phone service             DSL             No  ...               No   \n",
              "1                No             DSL            Yes  ...              Yes   \n",
              "2                No             DSL            Yes  ...               No   \n",
              "3  No phone service             DSL            Yes  ...              Yes   \n",
              "4                No     Fiber optic             No  ...               No   \n",
              "\n",
              "  TechSupport StreamingTV StreamingMovies        Contract PaperlessBilling  \\\n",
              "0          No          No              No  Month-to-month              Yes   \n",
              "1          No          No              No        One year               No   \n",
              "2          No          No              No  Month-to-month              Yes   \n",
              "3         Yes          No              No        One year               No   \n",
              "4          No          No              No  Month-to-month              Yes   \n",
              "\n",
              "               PaymentMethod MonthlyCharges  TotalCharges Churn  \n",
              "0           Electronic check          29.85         29.85    No  \n",
              "1               Mailed check          56.95        1889.5    No  \n",
              "2               Mailed check          53.85        108.15   Yes  \n",
              "3  Bank transfer (automatic)          42.30       1840.75    No  \n",
              "4           Electronic check          70.70        151.65   Yes  \n",
              "\n",
              "[5 rows x 21 columns]"
            ],
            "text/html": [
              "\n",
              "  <div id=\"df-d574a52e-2ed6-4deb-817d-a1eb140286a7\">\n",
              "    <div class=\"colab-df-container\">\n",
              "      <div>\n",
              "<style scoped>\n",
              "    .dataframe tbody tr th:only-of-type {\n",
              "        vertical-align: middle;\n",
              "    }\n",
              "\n",
              "    .dataframe tbody tr th {\n",
              "        vertical-align: top;\n",
              "    }\n",
              "\n",
              "    .dataframe thead th {\n",
              "        text-align: right;\n",
              "    }\n",
              "</style>\n",
              "<table border=\"1\" class=\"dataframe\">\n",
              "  <thead>\n",
              "    <tr style=\"text-align: right;\">\n",
              "      <th></th>\n",
              "      <th>customerID</th>\n",
              "      <th>gender</th>\n",
              "      <th>SeniorCitizen</th>\n",
              "      <th>Partner</th>\n",
              "      <th>Dependents</th>\n",
              "      <th>tenure</th>\n",
              "      <th>PhoneService</th>\n",
              "      <th>MultipleLines</th>\n",
              "      <th>InternetService</th>\n",
              "      <th>OnlineSecurity</th>\n",
              "      <th>...</th>\n",
              "      <th>DeviceProtection</th>\n",
              "      <th>TechSupport</th>\n",
              "      <th>StreamingTV</th>\n",
              "      <th>StreamingMovies</th>\n",
              "      <th>Contract</th>\n",
              "      <th>PaperlessBilling</th>\n",
              "      <th>PaymentMethod</th>\n",
              "      <th>MonthlyCharges</th>\n",
              "      <th>TotalCharges</th>\n",
              "      <th>Churn</th>\n",
              "    </tr>\n",
              "  </thead>\n",
              "  <tbody>\n",
              "    <tr>\n",
              "      <th>0</th>\n",
              "      <td>7590-VHVEG</td>\n",
              "      <td>Female</td>\n",
              "      <td>0</td>\n",
              "      <td>Yes</td>\n",
              "      <td>No</td>\n",
              "      <td>1</td>\n",
              "      <td>No</td>\n",
              "      <td>No phone service</td>\n",
              "      <td>DSL</td>\n",
              "      <td>No</td>\n",
              "      <td>...</td>\n",
              "      <td>No</td>\n",
              "      <td>No</td>\n",
              "      <td>No</td>\n",
              "      <td>No</td>\n",
              "      <td>Month-to-month</td>\n",
              "      <td>Yes</td>\n",
              "      <td>Electronic check</td>\n",
              "      <td>29.85</td>\n",
              "      <td>29.85</td>\n",
              "      <td>No</td>\n",
              "    </tr>\n",
              "    <tr>\n",
              "      <th>1</th>\n",
              "      <td>5575-GNVDE</td>\n",
              "      <td>Male</td>\n",
              "      <td>0</td>\n",
              "      <td>No</td>\n",
              "      <td>No</td>\n",
              "      <td>34</td>\n",
              "      <td>Yes</td>\n",
              "      <td>No</td>\n",
              "      <td>DSL</td>\n",
              "      <td>Yes</td>\n",
              "      <td>...</td>\n",
              "      <td>Yes</td>\n",
              "      <td>No</td>\n",
              "      <td>No</td>\n",
              "      <td>No</td>\n",
              "      <td>One year</td>\n",
              "      <td>No</td>\n",
              "      <td>Mailed check</td>\n",
              "      <td>56.95</td>\n",
              "      <td>1889.5</td>\n",
              "      <td>No</td>\n",
              "    </tr>\n",
              "    <tr>\n",
              "      <th>2</th>\n",
              "      <td>3668-QPYBK</td>\n",
              "      <td>Male</td>\n",
              "      <td>0</td>\n",
              "      <td>No</td>\n",
              "      <td>No</td>\n",
              "      <td>2</td>\n",
              "      <td>Yes</td>\n",
              "      <td>No</td>\n",
              "      <td>DSL</td>\n",
              "      <td>Yes</td>\n",
              "      <td>...</td>\n",
              "      <td>No</td>\n",
              "      <td>No</td>\n",
              "      <td>No</td>\n",
              "      <td>No</td>\n",
              "      <td>Month-to-month</td>\n",
              "      <td>Yes</td>\n",
              "      <td>Mailed check</td>\n",
              "      <td>53.85</td>\n",
              "      <td>108.15</td>\n",
              "      <td>Yes</td>\n",
              "    </tr>\n",
              "    <tr>\n",
              "      <th>3</th>\n",
              "      <td>7795-CFOCW</td>\n",
              "      <td>Male</td>\n",
              "      <td>0</td>\n",
              "      <td>No</td>\n",
              "      <td>No</td>\n",
              "      <td>45</td>\n",
              "      <td>No</td>\n",
              "      <td>No phone service</td>\n",
              "      <td>DSL</td>\n",
              "      <td>Yes</td>\n",
              "      <td>...</td>\n",
              "      <td>Yes</td>\n",
              "      <td>Yes</td>\n",
              "      <td>No</td>\n",
              "      <td>No</td>\n",
              "      <td>One year</td>\n",
              "      <td>No</td>\n",
              "      <td>Bank transfer (automatic)</td>\n",
              "      <td>42.30</td>\n",
              "      <td>1840.75</td>\n",
              "      <td>No</td>\n",
              "    </tr>\n",
              "    <tr>\n",
              "      <th>4</th>\n",
              "      <td>9237-HQITU</td>\n",
              "      <td>Female</td>\n",
              "      <td>0</td>\n",
              "      <td>No</td>\n",
              "      <td>No</td>\n",
              "      <td>2</td>\n",
              "      <td>Yes</td>\n",
              "      <td>No</td>\n",
              "      <td>Fiber optic</td>\n",
              "      <td>No</td>\n",
              "      <td>...</td>\n",
              "      <td>No</td>\n",
              "      <td>No</td>\n",
              "      <td>No</td>\n",
              "      <td>No</td>\n",
              "      <td>Month-to-month</td>\n",
              "      <td>Yes</td>\n",
              "      <td>Electronic check</td>\n",
              "      <td>70.70</td>\n",
              "      <td>151.65</td>\n",
              "      <td>Yes</td>\n",
              "    </tr>\n",
              "  </tbody>\n",
              "</table>\n",
              "<p>5 rows × 21 columns</p>\n",
              "</div>\n",
              "      <button class=\"colab-df-convert\" onclick=\"convertToInteractive('df-d574a52e-2ed6-4deb-817d-a1eb140286a7')\"\n",
              "              title=\"Convert this dataframe to an interactive table.\"\n",
              "              style=\"display:none;\">\n",
              "        \n",
              "  <svg xmlns=\"http://www.w3.org/2000/svg\" height=\"24px\"viewBox=\"0 0 24 24\"\n",
              "       width=\"24px\">\n",
              "    <path d=\"M0 0h24v24H0V0z\" fill=\"none\"/>\n",
              "    <path d=\"M18.56 5.44l.94 2.06.94-2.06 2.06-.94-2.06-.94-.94-2.06-.94 2.06-2.06.94zm-11 1L8.5 8.5l.94-2.06 2.06-.94-2.06-.94L8.5 2.5l-.94 2.06-2.06.94zm10 10l.94 2.06.94-2.06 2.06-.94-2.06-.94-.94-2.06-.94 2.06-2.06.94z\"/><path d=\"M17.41 7.96l-1.37-1.37c-.4-.4-.92-.59-1.43-.59-.52 0-1.04.2-1.43.59L10.3 9.45l-7.72 7.72c-.78.78-.78 2.05 0 2.83L4 21.41c.39.39.9.59 1.41.59.51 0 1.02-.2 1.41-.59l7.78-7.78 2.81-2.81c.8-.78.8-2.07 0-2.86zM5.41 20L4 18.59l7.72-7.72 1.47 1.35L5.41 20z\"/>\n",
              "  </svg>\n",
              "      </button>\n",
              "      \n",
              "  <style>\n",
              "    .colab-df-container {\n",
              "      display:flex;\n",
              "      flex-wrap:wrap;\n",
              "      gap: 12px;\n",
              "    }\n",
              "\n",
              "    .colab-df-convert {\n",
              "      background-color: #E8F0FE;\n",
              "      border: none;\n",
              "      border-radius: 50%;\n",
              "      cursor: pointer;\n",
              "      display: none;\n",
              "      fill: #1967D2;\n",
              "      height: 32px;\n",
              "      padding: 0 0 0 0;\n",
              "      width: 32px;\n",
              "    }\n",
              "\n",
              "    .colab-df-convert:hover {\n",
              "      background-color: #E2EBFA;\n",
              "      box-shadow: 0px 1px 2px rgba(60, 64, 67, 0.3), 0px 1px 3px 1px rgba(60, 64, 67, 0.15);\n",
              "      fill: #174EA6;\n",
              "    }\n",
              "\n",
              "    [theme=dark] .colab-df-convert {\n",
              "      background-color: #3B4455;\n",
              "      fill: #D2E3FC;\n",
              "    }\n",
              "\n",
              "    [theme=dark] .colab-df-convert:hover {\n",
              "      background-color: #434B5C;\n",
              "      box-shadow: 0px 1px 3px 1px rgba(0, 0, 0, 0.15);\n",
              "      filter: drop-shadow(0px 1px 2px rgba(0, 0, 0, 0.3));\n",
              "      fill: #FFFFFF;\n",
              "    }\n",
              "  </style>\n",
              "\n",
              "      <script>\n",
              "        const buttonEl =\n",
              "          document.querySelector('#df-d574a52e-2ed6-4deb-817d-a1eb140286a7 button.colab-df-convert');\n",
              "        buttonEl.style.display =\n",
              "          google.colab.kernel.accessAllowed ? 'block' : 'none';\n",
              "\n",
              "        async function convertToInteractive(key) {\n",
              "          const element = document.querySelector('#df-d574a52e-2ed6-4deb-817d-a1eb140286a7');\n",
              "          const dataTable =\n",
              "            await google.colab.kernel.invokeFunction('convertToInteractive',\n",
              "                                                     [key], {});\n",
              "          if (!dataTable) return;\n",
              "\n",
              "          const docLinkHtml = 'Like what you see? Visit the ' +\n",
              "            '<a target=\"_blank\" href=https://colab.research.google.com/notebooks/data_table.ipynb>data table notebook</a>'\n",
              "            + ' to learn more about interactive tables.';\n",
              "          element.innerHTML = '';\n",
              "          dataTable['output_type'] = 'display_data';\n",
              "          await google.colab.output.renderOutput(dataTable, element);\n",
              "          const docLink = document.createElement('div');\n",
              "          docLink.innerHTML = docLinkHtml;\n",
              "          element.appendChild(docLink);\n",
              "        }\n",
              "      </script>\n",
              "    </div>\n",
              "  </div>\n",
              "  "
            ]
          },
          "metadata": {},
          "execution_count": 4
        }
      ]
    },
    {
      "cell_type": "code",
      "source": [
        "cd.tail()"
      ],
      "metadata": {
        "colab": {
          "base_uri": "https://localhost:8080/",
          "height": 386
        },
        "id": "k9rlJbWeq95H",
        "outputId": "eb052c62-4fe2-4eb6-f2fb-79f9606bba37"
      },
      "id": "k9rlJbWeq95H",
      "execution_count": 5,
      "outputs": [
        {
          "output_type": "execute_result",
          "data": {
            "text/plain": [
              "      customerID  gender  SeniorCitizen Partner Dependents  tenure  \\\n",
              "7038  6840-RESVB    Male              0     Yes        Yes      24   \n",
              "7039  2234-XADUH  Female              0     Yes        Yes      72   \n",
              "7040  4801-JZAZL  Female              0     Yes        Yes      11   \n",
              "7041  8361-LTMKD    Male              1     Yes         No       4   \n",
              "7042  3186-AJIEK    Male              0      No         No      66   \n",
              "\n",
              "     PhoneService     MultipleLines InternetService OnlineSecurity  ...  \\\n",
              "7038          Yes               Yes             DSL            Yes  ...   \n",
              "7039          Yes               Yes     Fiber optic             No  ...   \n",
              "7040           No  No phone service             DSL            Yes  ...   \n",
              "7041          Yes               Yes     Fiber optic             No  ...   \n",
              "7042          Yes                No     Fiber optic            Yes  ...   \n",
              "\n",
              "     DeviceProtection TechSupport StreamingTV StreamingMovies        Contract  \\\n",
              "7038              Yes         Yes         Yes             Yes        One year   \n",
              "7039              Yes          No         Yes             Yes        One year   \n",
              "7040               No          No          No              No  Month-to-month   \n",
              "7041               No          No          No              No  Month-to-month   \n",
              "7042              Yes         Yes         Yes             Yes        Two year   \n",
              "\n",
              "     PaperlessBilling              PaymentMethod MonthlyCharges  TotalCharges  \\\n",
              "7038              Yes               Mailed check          84.80        1990.5   \n",
              "7039              Yes    Credit card (automatic)         103.20        7362.9   \n",
              "7040              Yes           Electronic check          29.60        346.45   \n",
              "7041              Yes               Mailed check          74.40         306.6   \n",
              "7042              Yes  Bank transfer (automatic)         105.65        6844.5   \n",
              "\n",
              "     Churn  \n",
              "7038    No  \n",
              "7039    No  \n",
              "7040    No  \n",
              "7041   Yes  \n",
              "7042    No  \n",
              "\n",
              "[5 rows x 21 columns]"
            ],
            "text/html": [
              "\n",
              "  <div id=\"df-eb49d1de-ec73-4c37-83c2-4a8e28821c9c\">\n",
              "    <div class=\"colab-df-container\">\n",
              "      <div>\n",
              "<style scoped>\n",
              "    .dataframe tbody tr th:only-of-type {\n",
              "        vertical-align: middle;\n",
              "    }\n",
              "\n",
              "    .dataframe tbody tr th {\n",
              "        vertical-align: top;\n",
              "    }\n",
              "\n",
              "    .dataframe thead th {\n",
              "        text-align: right;\n",
              "    }\n",
              "</style>\n",
              "<table border=\"1\" class=\"dataframe\">\n",
              "  <thead>\n",
              "    <tr style=\"text-align: right;\">\n",
              "      <th></th>\n",
              "      <th>customerID</th>\n",
              "      <th>gender</th>\n",
              "      <th>SeniorCitizen</th>\n",
              "      <th>Partner</th>\n",
              "      <th>Dependents</th>\n",
              "      <th>tenure</th>\n",
              "      <th>PhoneService</th>\n",
              "      <th>MultipleLines</th>\n",
              "      <th>InternetService</th>\n",
              "      <th>OnlineSecurity</th>\n",
              "      <th>...</th>\n",
              "      <th>DeviceProtection</th>\n",
              "      <th>TechSupport</th>\n",
              "      <th>StreamingTV</th>\n",
              "      <th>StreamingMovies</th>\n",
              "      <th>Contract</th>\n",
              "      <th>PaperlessBilling</th>\n",
              "      <th>PaymentMethod</th>\n",
              "      <th>MonthlyCharges</th>\n",
              "      <th>TotalCharges</th>\n",
              "      <th>Churn</th>\n",
              "    </tr>\n",
              "  </thead>\n",
              "  <tbody>\n",
              "    <tr>\n",
              "      <th>7038</th>\n",
              "      <td>6840-RESVB</td>\n",
              "      <td>Male</td>\n",
              "      <td>0</td>\n",
              "      <td>Yes</td>\n",
              "      <td>Yes</td>\n",
              "      <td>24</td>\n",
              "      <td>Yes</td>\n",
              "      <td>Yes</td>\n",
              "      <td>DSL</td>\n",
              "      <td>Yes</td>\n",
              "      <td>...</td>\n",
              "      <td>Yes</td>\n",
              "      <td>Yes</td>\n",
              "      <td>Yes</td>\n",
              "      <td>Yes</td>\n",
              "      <td>One year</td>\n",
              "      <td>Yes</td>\n",
              "      <td>Mailed check</td>\n",
              "      <td>84.80</td>\n",
              "      <td>1990.5</td>\n",
              "      <td>No</td>\n",
              "    </tr>\n",
              "    <tr>\n",
              "      <th>7039</th>\n",
              "      <td>2234-XADUH</td>\n",
              "      <td>Female</td>\n",
              "      <td>0</td>\n",
              "      <td>Yes</td>\n",
              "      <td>Yes</td>\n",
              "      <td>72</td>\n",
              "      <td>Yes</td>\n",
              "      <td>Yes</td>\n",
              "      <td>Fiber optic</td>\n",
              "      <td>No</td>\n",
              "      <td>...</td>\n",
              "      <td>Yes</td>\n",
              "      <td>No</td>\n",
              "      <td>Yes</td>\n",
              "      <td>Yes</td>\n",
              "      <td>One year</td>\n",
              "      <td>Yes</td>\n",
              "      <td>Credit card (automatic)</td>\n",
              "      <td>103.20</td>\n",
              "      <td>7362.9</td>\n",
              "      <td>No</td>\n",
              "    </tr>\n",
              "    <tr>\n",
              "      <th>7040</th>\n",
              "      <td>4801-JZAZL</td>\n",
              "      <td>Female</td>\n",
              "      <td>0</td>\n",
              "      <td>Yes</td>\n",
              "      <td>Yes</td>\n",
              "      <td>11</td>\n",
              "      <td>No</td>\n",
              "      <td>No phone service</td>\n",
              "      <td>DSL</td>\n",
              "      <td>Yes</td>\n",
              "      <td>...</td>\n",
              "      <td>No</td>\n",
              "      <td>No</td>\n",
              "      <td>No</td>\n",
              "      <td>No</td>\n",
              "      <td>Month-to-month</td>\n",
              "      <td>Yes</td>\n",
              "      <td>Electronic check</td>\n",
              "      <td>29.60</td>\n",
              "      <td>346.45</td>\n",
              "      <td>No</td>\n",
              "    </tr>\n",
              "    <tr>\n",
              "      <th>7041</th>\n",
              "      <td>8361-LTMKD</td>\n",
              "      <td>Male</td>\n",
              "      <td>1</td>\n",
              "      <td>Yes</td>\n",
              "      <td>No</td>\n",
              "      <td>4</td>\n",
              "      <td>Yes</td>\n",
              "      <td>Yes</td>\n",
              "      <td>Fiber optic</td>\n",
              "      <td>No</td>\n",
              "      <td>...</td>\n",
              "      <td>No</td>\n",
              "      <td>No</td>\n",
              "      <td>No</td>\n",
              "      <td>No</td>\n",
              "      <td>Month-to-month</td>\n",
              "      <td>Yes</td>\n",
              "      <td>Mailed check</td>\n",
              "      <td>74.40</td>\n",
              "      <td>306.6</td>\n",
              "      <td>Yes</td>\n",
              "    </tr>\n",
              "    <tr>\n",
              "      <th>7042</th>\n",
              "      <td>3186-AJIEK</td>\n",
              "      <td>Male</td>\n",
              "      <td>0</td>\n",
              "      <td>No</td>\n",
              "      <td>No</td>\n",
              "      <td>66</td>\n",
              "      <td>Yes</td>\n",
              "      <td>No</td>\n",
              "      <td>Fiber optic</td>\n",
              "      <td>Yes</td>\n",
              "      <td>...</td>\n",
              "      <td>Yes</td>\n",
              "      <td>Yes</td>\n",
              "      <td>Yes</td>\n",
              "      <td>Yes</td>\n",
              "      <td>Two year</td>\n",
              "      <td>Yes</td>\n",
              "      <td>Bank transfer (automatic)</td>\n",
              "      <td>105.65</td>\n",
              "      <td>6844.5</td>\n",
              "      <td>No</td>\n",
              "    </tr>\n",
              "  </tbody>\n",
              "</table>\n",
              "<p>5 rows × 21 columns</p>\n",
              "</div>\n",
              "      <button class=\"colab-df-convert\" onclick=\"convertToInteractive('df-eb49d1de-ec73-4c37-83c2-4a8e28821c9c')\"\n",
              "              title=\"Convert this dataframe to an interactive table.\"\n",
              "              style=\"display:none;\">\n",
              "        \n",
              "  <svg xmlns=\"http://www.w3.org/2000/svg\" height=\"24px\"viewBox=\"0 0 24 24\"\n",
              "       width=\"24px\">\n",
              "    <path d=\"M0 0h24v24H0V0z\" fill=\"none\"/>\n",
              "    <path d=\"M18.56 5.44l.94 2.06.94-2.06 2.06-.94-2.06-.94-.94-2.06-.94 2.06-2.06.94zm-11 1L8.5 8.5l.94-2.06 2.06-.94-2.06-.94L8.5 2.5l-.94 2.06-2.06.94zm10 10l.94 2.06.94-2.06 2.06-.94-2.06-.94-.94-2.06-.94 2.06-2.06.94z\"/><path d=\"M17.41 7.96l-1.37-1.37c-.4-.4-.92-.59-1.43-.59-.52 0-1.04.2-1.43.59L10.3 9.45l-7.72 7.72c-.78.78-.78 2.05 0 2.83L4 21.41c.39.39.9.59 1.41.59.51 0 1.02-.2 1.41-.59l7.78-7.78 2.81-2.81c.8-.78.8-2.07 0-2.86zM5.41 20L4 18.59l7.72-7.72 1.47 1.35L5.41 20z\"/>\n",
              "  </svg>\n",
              "      </button>\n",
              "      \n",
              "  <style>\n",
              "    .colab-df-container {\n",
              "      display:flex;\n",
              "      flex-wrap:wrap;\n",
              "      gap: 12px;\n",
              "    }\n",
              "\n",
              "    .colab-df-convert {\n",
              "      background-color: #E8F0FE;\n",
              "      border: none;\n",
              "      border-radius: 50%;\n",
              "      cursor: pointer;\n",
              "      display: none;\n",
              "      fill: #1967D2;\n",
              "      height: 32px;\n",
              "      padding: 0 0 0 0;\n",
              "      width: 32px;\n",
              "    }\n",
              "\n",
              "    .colab-df-convert:hover {\n",
              "      background-color: #E2EBFA;\n",
              "      box-shadow: 0px 1px 2px rgba(60, 64, 67, 0.3), 0px 1px 3px 1px rgba(60, 64, 67, 0.15);\n",
              "      fill: #174EA6;\n",
              "    }\n",
              "\n",
              "    [theme=dark] .colab-df-convert {\n",
              "      background-color: #3B4455;\n",
              "      fill: #D2E3FC;\n",
              "    }\n",
              "\n",
              "    [theme=dark] .colab-df-convert:hover {\n",
              "      background-color: #434B5C;\n",
              "      box-shadow: 0px 1px 3px 1px rgba(0, 0, 0, 0.15);\n",
              "      filter: drop-shadow(0px 1px 2px rgba(0, 0, 0, 0.3));\n",
              "      fill: #FFFFFF;\n",
              "    }\n",
              "  </style>\n",
              "\n",
              "      <script>\n",
              "        const buttonEl =\n",
              "          document.querySelector('#df-eb49d1de-ec73-4c37-83c2-4a8e28821c9c button.colab-df-convert');\n",
              "        buttonEl.style.display =\n",
              "          google.colab.kernel.accessAllowed ? 'block' : 'none';\n",
              "\n",
              "        async function convertToInteractive(key) {\n",
              "          const element = document.querySelector('#df-eb49d1de-ec73-4c37-83c2-4a8e28821c9c');\n",
              "          const dataTable =\n",
              "            await google.colab.kernel.invokeFunction('convertToInteractive',\n",
              "                                                     [key], {});\n",
              "          if (!dataTable) return;\n",
              "\n",
              "          const docLinkHtml = 'Like what you see? Visit the ' +\n",
              "            '<a target=\"_blank\" href=https://colab.research.google.com/notebooks/data_table.ipynb>data table notebook</a>'\n",
              "            + ' to learn more about interactive tables.';\n",
              "          element.innerHTML = '';\n",
              "          dataTable['output_type'] = 'display_data';\n",
              "          await google.colab.output.renderOutput(dataTable, element);\n",
              "          const docLink = document.createElement('div');\n",
              "          docLink.innerHTML = docLinkHtml;\n",
              "          element.appendChild(docLink);\n",
              "        }\n",
              "      </script>\n",
              "    </div>\n",
              "  </div>\n",
              "  "
            ]
          },
          "metadata": {},
          "execution_count": 5
        }
      ]
    },
    {
      "cell_type": "code",
      "source": [
        "print(\"cdset shape  : \",cd.shape)"
      ],
      "metadata": {
        "colab": {
          "base_uri": "https://localhost:8080/"
        },
        "id": "Iy7WMeN6rDAY",
        "outputId": "4eb8226d-caa7-4650-a150-4de07c8a03ad"
      },
      "id": "Iy7WMeN6rDAY",
      "execution_count": 6,
      "outputs": [
        {
          "output_type": "stream",
          "name": "stdout",
          "text": [
            "dataset shape  :  (7043, 21)\n"
          ]
        }
      ]
    },
    {
      "cell_type": "code",
      "execution_count": 7,
      "id": "819f8637",
      "metadata": {
        "execution": {
          "iopub.execute_input": "2022-11-24T17:52:20.010530Z",
          "iopub.status.busy": "2022-11-24T17:52:20.009450Z",
          "iopub.status.idle": "2022-11-24T17:52:20.018492Z",
          "shell.execute_reply": "2022-11-24T17:52:20.017524Z"
        },
        "papermill": {
          "duration": 0.025125,
          "end_time": "2022-11-24T17:52:20.020656",
          "exception": false,
          "start_time": "2022-11-24T17:52:19.995531",
          "status": "completed"
        },
        "tags": [],
        "colab": {
          "base_uri": "https://localhost:8080/"
        },
        "id": "819f8637",
        "outputId": "2c20db31-5ef5-404b-b886-a3acfcefabf2"
      },
      "outputs": [
        {
          "output_type": "stream",
          "name": "stdout",
          "text": [
            "<class 'pandas.core.frame.DataFrame'>\n",
            "RangeIndex: 7043 entries, 0 to 7042\n",
            "Data columns (total 21 columns):\n",
            " #   Column            Non-Null Count  Dtype  \n",
            "---  ------            --------------  -----  \n",
            " 0   customerID        7043 non-null   object \n",
            " 1   gender            7043 non-null   object \n",
            " 2   SeniorCitizen     7043 non-null   int64  \n",
            " 3   Partner           7043 non-null   object \n",
            " 4   Dependents        7043 non-null   object \n",
            " 5   tenure            7043 non-null   int64  \n",
            " 6   PhoneService      7043 non-null   object \n",
            " 7   MultipleLines     7043 non-null   object \n",
            " 8   InternetService   7043 non-null   object \n",
            " 9   OnlineSecurity    7043 non-null   object \n",
            " 10  OnlineBackup      7043 non-null   object \n",
            " 11  DeviceProtection  7043 non-null   object \n",
            " 12  TechSupport       7043 non-null   object \n",
            " 13  StreamingTV       7043 non-null   object \n",
            " 14  StreamingMovies   7043 non-null   object \n",
            " 15  Contract          7043 non-null   object \n",
            " 16  PaperlessBilling  7043 non-null   object \n",
            " 17  PaymentMethod     7043 non-null   object \n",
            " 18  MonthlyCharges    7043 non-null   float64\n",
            " 19  TotalCharges      7043 non-null   object \n",
            " 20  Churn             7043 non-null   object \n",
            "dtypes: float64(1), int64(2), object(18)\n",
            "memory usage: 1.1+ MB\n",
            "None\n"
          ]
        }
      ],
      "source": [
        "print(cd.info()) #checking columns,total records, cd type "
      ]
    },
    {
      "cell_type": "markdown",
      "id": "02b22334",
      "metadata": {
        "papermill": {
          "duration": 0.014515,
          "end_time": "2022-11-24T17:52:20.048090",
          "exception": false,
          "start_time": "2022-11-24T17:52:20.033575",
          "status": "completed"
        },
        "tags": [],
        "id": "02b22334"
      },
      "source": [
        "# 2. Cleaning"
      ]
    },
    {
      "cell_type": "markdown",
      "id": "c238674c",
      "metadata": {
        "papermill": {
          "duration": 0.014072,
          "end_time": "2022-11-24T17:52:20.080752",
          "exception": false,
          "start_time": "2022-11-24T17:52:20.066680",
          "status": "completed"
        },
        "tags": [],
        "id": "c238674c"
      },
      "source": [
        "## TotalCharges"
      ]
    },
    {
      "cell_type": "code",
      "execution_count": 10,
      "id": "a0d282de",
      "metadata": {
        "execution": {
          "iopub.execute_input": "2022-11-24T17:52:20.119375Z",
          "iopub.status.busy": "2022-11-24T17:52:20.118832Z",
          "iopub.status.idle": "2022-11-24T17:52:20.159117Z",
          "shell.execute_reply": "2022-11-24T17:52:20.157825Z"
        },
        "papermill": {
          "duration": 0.060967,
          "end_time": "2022-11-24T17:52:20.161621",
          "exception": false,
          "start_time": "2022-11-24T17:52:20.100654",
          "status": "completed"
        },
        "tags": [],
        "colab": {
          "base_uri": "https://localhost:8080/",
          "height": 678
        },
        "id": "a0d282de",
        "outputId": "5847934d-2402-4a53-ecbf-7c32bec0ae0f"
      },
      "outputs": [
        {
          "output_type": "execute_result",
          "data": {
            "text/plain": [
              "      customerID  gender  SeniorCitizen Partner Dependents  tenure  \\\n",
              "488   4472-LVYGI  Female              0     Yes        Yes       0   \n",
              "753   3115-CZMZD    Male              0      No        Yes       0   \n",
              "936   5709-LVOEQ  Female              0     Yes        Yes       0   \n",
              "1082  4367-NUYAO    Male              0     Yes        Yes       0   \n",
              "1340  1371-DWPAZ  Female              0     Yes        Yes       0   \n",
              "3331  7644-OMVMY    Male              0     Yes        Yes       0   \n",
              "3826  3213-VVOLG    Male              0     Yes        Yes       0   \n",
              "4380  2520-SGTTA  Female              0     Yes        Yes       0   \n",
              "5218  2923-ARZLG    Male              0     Yes        Yes       0   \n",
              "6670  4075-WKNIU  Female              0     Yes        Yes       0   \n",
              "6754  2775-SEFEE    Male              0      No        Yes       0   \n",
              "\n",
              "     PhoneService     MultipleLines InternetService       OnlineSecurity  ...  \\\n",
              "488            No  No phone service             DSL                  Yes  ...   \n",
              "753           Yes                No              No  No internet service  ...   \n",
              "936           Yes                No             DSL                  Yes  ...   \n",
              "1082          Yes               Yes              No  No internet service  ...   \n",
              "1340           No  No phone service             DSL                  Yes  ...   \n",
              "3331          Yes                No              No  No internet service  ...   \n",
              "3826          Yes               Yes              No  No internet service  ...   \n",
              "4380          Yes                No              No  No internet service  ...   \n",
              "5218          Yes                No              No  No internet service  ...   \n",
              "6670          Yes               Yes             DSL                   No  ...   \n",
              "6754          Yes               Yes             DSL                  Yes  ...   \n",
              "\n",
              "         DeviceProtection          TechSupport          StreamingTV  \\\n",
              "488                   Yes                  Yes                  Yes   \n",
              "753   No internet service  No internet service  No internet service   \n",
              "936                   Yes                   No                  Yes   \n",
              "1082  No internet service  No internet service  No internet service   \n",
              "1340                  Yes                  Yes                  Yes   \n",
              "3331  No internet service  No internet service  No internet service   \n",
              "3826  No internet service  No internet service  No internet service   \n",
              "4380  No internet service  No internet service  No internet service   \n",
              "5218  No internet service  No internet service  No internet service   \n",
              "6670                  Yes                  Yes                  Yes   \n",
              "6754                   No                  Yes                   No   \n",
              "\n",
              "          StreamingMovies  Contract PaperlessBilling  \\\n",
              "488                    No  Two year              Yes   \n",
              "753   No internet service  Two year               No   \n",
              "936                   Yes  Two year               No   \n",
              "1082  No internet service  Two year               No   \n",
              "1340                   No  Two year               No   \n",
              "3331  No internet service  Two year               No   \n",
              "3826  No internet service  Two year               No   \n",
              "4380  No internet service  Two year               No   \n",
              "5218  No internet service  One year              Yes   \n",
              "6670                   No  Two year               No   \n",
              "6754                   No  Two year              Yes   \n",
              "\n",
              "                  PaymentMethod MonthlyCharges  TotalCharges Churn  \n",
              "488   Bank transfer (automatic)          52.55                  No  \n",
              "753                Mailed check          20.25                  No  \n",
              "936                Mailed check          80.85                  No  \n",
              "1082               Mailed check          25.75                  No  \n",
              "1340    Credit card (automatic)          56.05                  No  \n",
              "3331               Mailed check          19.85                  No  \n",
              "3826               Mailed check          25.35                  No  \n",
              "4380               Mailed check          20.00                  No  \n",
              "5218               Mailed check          19.70                  No  \n",
              "6670               Mailed check          73.35                  No  \n",
              "6754  Bank transfer (automatic)          61.90                  No  \n",
              "\n",
              "[11 rows x 21 columns]"
            ],
            "text/html": [
              "\n",
              "  <div id=\"df-d7f7a9d9-dbb7-49a1-adcb-f3c21455be37\">\n",
              "    <div class=\"colab-df-container\">\n",
              "      <div>\n",
              "<style scoped>\n",
              "    .dataframe tbody tr th:only-of-type {\n",
              "        vertical-align: middle;\n",
              "    }\n",
              "\n",
              "    .dataframe tbody tr th {\n",
              "        vertical-align: top;\n",
              "    }\n",
              "\n",
              "    .dataframe thead th {\n",
              "        text-align: right;\n",
              "    }\n",
              "</style>\n",
              "<table border=\"1\" class=\"dataframe\">\n",
              "  <thead>\n",
              "    <tr style=\"text-align: right;\">\n",
              "      <th></th>\n",
              "      <th>customerID</th>\n",
              "      <th>gender</th>\n",
              "      <th>SeniorCitizen</th>\n",
              "      <th>Partner</th>\n",
              "      <th>Dependents</th>\n",
              "      <th>tenure</th>\n",
              "      <th>PhoneService</th>\n",
              "      <th>MultipleLines</th>\n",
              "      <th>InternetService</th>\n",
              "      <th>OnlineSecurity</th>\n",
              "      <th>...</th>\n",
              "      <th>DeviceProtection</th>\n",
              "      <th>TechSupport</th>\n",
              "      <th>StreamingTV</th>\n",
              "      <th>StreamingMovies</th>\n",
              "      <th>Contract</th>\n",
              "      <th>PaperlessBilling</th>\n",
              "      <th>PaymentMethod</th>\n",
              "      <th>MonthlyCharges</th>\n",
              "      <th>TotalCharges</th>\n",
              "      <th>Churn</th>\n",
              "    </tr>\n",
              "  </thead>\n",
              "  <tbody>\n",
              "    <tr>\n",
              "      <th>488</th>\n",
              "      <td>4472-LVYGI</td>\n",
              "      <td>Female</td>\n",
              "      <td>0</td>\n",
              "      <td>Yes</td>\n",
              "      <td>Yes</td>\n",
              "      <td>0</td>\n",
              "      <td>No</td>\n",
              "      <td>No phone service</td>\n",
              "      <td>DSL</td>\n",
              "      <td>Yes</td>\n",
              "      <td>...</td>\n",
              "      <td>Yes</td>\n",
              "      <td>Yes</td>\n",
              "      <td>Yes</td>\n",
              "      <td>No</td>\n",
              "      <td>Two year</td>\n",
              "      <td>Yes</td>\n",
              "      <td>Bank transfer (automatic)</td>\n",
              "      <td>52.55</td>\n",
              "      <td></td>\n",
              "      <td>No</td>\n",
              "    </tr>\n",
              "    <tr>\n",
              "      <th>753</th>\n",
              "      <td>3115-CZMZD</td>\n",
              "      <td>Male</td>\n",
              "      <td>0</td>\n",
              "      <td>No</td>\n",
              "      <td>Yes</td>\n",
              "      <td>0</td>\n",
              "      <td>Yes</td>\n",
              "      <td>No</td>\n",
              "      <td>No</td>\n",
              "      <td>No internet service</td>\n",
              "      <td>...</td>\n",
              "      <td>No internet service</td>\n",
              "      <td>No internet service</td>\n",
              "      <td>No internet service</td>\n",
              "      <td>No internet service</td>\n",
              "      <td>Two year</td>\n",
              "      <td>No</td>\n",
              "      <td>Mailed check</td>\n",
              "      <td>20.25</td>\n",
              "      <td></td>\n",
              "      <td>No</td>\n",
              "    </tr>\n",
              "    <tr>\n",
              "      <th>936</th>\n",
              "      <td>5709-LVOEQ</td>\n",
              "      <td>Female</td>\n",
              "      <td>0</td>\n",
              "      <td>Yes</td>\n",
              "      <td>Yes</td>\n",
              "      <td>0</td>\n",
              "      <td>Yes</td>\n",
              "      <td>No</td>\n",
              "      <td>DSL</td>\n",
              "      <td>Yes</td>\n",
              "      <td>...</td>\n",
              "      <td>Yes</td>\n",
              "      <td>No</td>\n",
              "      <td>Yes</td>\n",
              "      <td>Yes</td>\n",
              "      <td>Two year</td>\n",
              "      <td>No</td>\n",
              "      <td>Mailed check</td>\n",
              "      <td>80.85</td>\n",
              "      <td></td>\n",
              "      <td>No</td>\n",
              "    </tr>\n",
              "    <tr>\n",
              "      <th>1082</th>\n",
              "      <td>4367-NUYAO</td>\n",
              "      <td>Male</td>\n",
              "      <td>0</td>\n",
              "      <td>Yes</td>\n",
              "      <td>Yes</td>\n",
              "      <td>0</td>\n",
              "      <td>Yes</td>\n",
              "      <td>Yes</td>\n",
              "      <td>No</td>\n",
              "      <td>No internet service</td>\n",
              "      <td>...</td>\n",
              "      <td>No internet service</td>\n",
              "      <td>No internet service</td>\n",
              "      <td>No internet service</td>\n",
              "      <td>No internet service</td>\n",
              "      <td>Two year</td>\n",
              "      <td>No</td>\n",
              "      <td>Mailed check</td>\n",
              "      <td>25.75</td>\n",
              "      <td></td>\n",
              "      <td>No</td>\n",
              "    </tr>\n",
              "    <tr>\n",
              "      <th>1340</th>\n",
              "      <td>1371-DWPAZ</td>\n",
              "      <td>Female</td>\n",
              "      <td>0</td>\n",
              "      <td>Yes</td>\n",
              "      <td>Yes</td>\n",
              "      <td>0</td>\n",
              "      <td>No</td>\n",
              "      <td>No phone service</td>\n",
              "      <td>DSL</td>\n",
              "      <td>Yes</td>\n",
              "      <td>...</td>\n",
              "      <td>Yes</td>\n",
              "      <td>Yes</td>\n",
              "      <td>Yes</td>\n",
              "      <td>No</td>\n",
              "      <td>Two year</td>\n",
              "      <td>No</td>\n",
              "      <td>Credit card (automatic)</td>\n",
              "      <td>56.05</td>\n",
              "      <td></td>\n",
              "      <td>No</td>\n",
              "    </tr>\n",
              "    <tr>\n",
              "      <th>3331</th>\n",
              "      <td>7644-OMVMY</td>\n",
              "      <td>Male</td>\n",
              "      <td>0</td>\n",
              "      <td>Yes</td>\n",
              "      <td>Yes</td>\n",
              "      <td>0</td>\n",
              "      <td>Yes</td>\n",
              "      <td>No</td>\n",
              "      <td>No</td>\n",
              "      <td>No internet service</td>\n",
              "      <td>...</td>\n",
              "      <td>No internet service</td>\n",
              "      <td>No internet service</td>\n",
              "      <td>No internet service</td>\n",
              "      <td>No internet service</td>\n",
              "      <td>Two year</td>\n",
              "      <td>No</td>\n",
              "      <td>Mailed check</td>\n",
              "      <td>19.85</td>\n",
              "      <td></td>\n",
              "      <td>No</td>\n",
              "    </tr>\n",
              "    <tr>\n",
              "      <th>3826</th>\n",
              "      <td>3213-VVOLG</td>\n",
              "      <td>Male</td>\n",
              "      <td>0</td>\n",
              "      <td>Yes</td>\n",
              "      <td>Yes</td>\n",
              "      <td>0</td>\n",
              "      <td>Yes</td>\n",
              "      <td>Yes</td>\n",
              "      <td>No</td>\n",
              "      <td>No internet service</td>\n",
              "      <td>...</td>\n",
              "      <td>No internet service</td>\n",
              "      <td>No internet service</td>\n",
              "      <td>No internet service</td>\n",
              "      <td>No internet service</td>\n",
              "      <td>Two year</td>\n",
              "      <td>No</td>\n",
              "      <td>Mailed check</td>\n",
              "      <td>25.35</td>\n",
              "      <td></td>\n",
              "      <td>No</td>\n",
              "    </tr>\n",
              "    <tr>\n",
              "      <th>4380</th>\n",
              "      <td>2520-SGTTA</td>\n",
              "      <td>Female</td>\n",
              "      <td>0</td>\n",
              "      <td>Yes</td>\n",
              "      <td>Yes</td>\n",
              "      <td>0</td>\n",
              "      <td>Yes</td>\n",
              "      <td>No</td>\n",
              "      <td>No</td>\n",
              "      <td>No internet service</td>\n",
              "      <td>...</td>\n",
              "      <td>No internet service</td>\n",
              "      <td>No internet service</td>\n",
              "      <td>No internet service</td>\n",
              "      <td>No internet service</td>\n",
              "      <td>Two year</td>\n",
              "      <td>No</td>\n",
              "      <td>Mailed check</td>\n",
              "      <td>20.00</td>\n",
              "      <td></td>\n",
              "      <td>No</td>\n",
              "    </tr>\n",
              "    <tr>\n",
              "      <th>5218</th>\n",
              "      <td>2923-ARZLG</td>\n",
              "      <td>Male</td>\n",
              "      <td>0</td>\n",
              "      <td>Yes</td>\n",
              "      <td>Yes</td>\n",
              "      <td>0</td>\n",
              "      <td>Yes</td>\n",
              "      <td>No</td>\n",
              "      <td>No</td>\n",
              "      <td>No internet service</td>\n",
              "      <td>...</td>\n",
              "      <td>No internet service</td>\n",
              "      <td>No internet service</td>\n",
              "      <td>No internet service</td>\n",
              "      <td>No internet service</td>\n",
              "      <td>One year</td>\n",
              "      <td>Yes</td>\n",
              "      <td>Mailed check</td>\n",
              "      <td>19.70</td>\n",
              "      <td></td>\n",
              "      <td>No</td>\n",
              "    </tr>\n",
              "    <tr>\n",
              "      <th>6670</th>\n",
              "      <td>4075-WKNIU</td>\n",
              "      <td>Female</td>\n",
              "      <td>0</td>\n",
              "      <td>Yes</td>\n",
              "      <td>Yes</td>\n",
              "      <td>0</td>\n",
              "      <td>Yes</td>\n",
              "      <td>Yes</td>\n",
              "      <td>DSL</td>\n",
              "      <td>No</td>\n",
              "      <td>...</td>\n",
              "      <td>Yes</td>\n",
              "      <td>Yes</td>\n",
              "      <td>Yes</td>\n",
              "      <td>No</td>\n",
              "      <td>Two year</td>\n",
              "      <td>No</td>\n",
              "      <td>Mailed check</td>\n",
              "      <td>73.35</td>\n",
              "      <td></td>\n",
              "      <td>No</td>\n",
              "    </tr>\n",
              "    <tr>\n",
              "      <th>6754</th>\n",
              "      <td>2775-SEFEE</td>\n",
              "      <td>Male</td>\n",
              "      <td>0</td>\n",
              "      <td>No</td>\n",
              "      <td>Yes</td>\n",
              "      <td>0</td>\n",
              "      <td>Yes</td>\n",
              "      <td>Yes</td>\n",
              "      <td>DSL</td>\n",
              "      <td>Yes</td>\n",
              "      <td>...</td>\n",
              "      <td>No</td>\n",
              "      <td>Yes</td>\n",
              "      <td>No</td>\n",
              "      <td>No</td>\n",
              "      <td>Two year</td>\n",
              "      <td>Yes</td>\n",
              "      <td>Bank transfer (automatic)</td>\n",
              "      <td>61.90</td>\n",
              "      <td></td>\n",
              "      <td>No</td>\n",
              "    </tr>\n",
              "  </tbody>\n",
              "</table>\n",
              "<p>11 rows × 21 columns</p>\n",
              "</div>\n",
              "      <button class=\"colab-df-convert\" onclick=\"convertToInteractive('df-d7f7a9d9-dbb7-49a1-adcb-f3c21455be37')\"\n",
              "              title=\"Convert this dataframe to an interactive table.\"\n",
              "              style=\"display:none;\">\n",
              "        \n",
              "  <svg xmlns=\"http://www.w3.org/2000/svg\" height=\"24px\"viewBox=\"0 0 24 24\"\n",
              "       width=\"24px\">\n",
              "    <path d=\"M0 0h24v24H0V0z\" fill=\"none\"/>\n",
              "    <path d=\"M18.56 5.44l.94 2.06.94-2.06 2.06-.94-2.06-.94-.94-2.06-.94 2.06-2.06.94zm-11 1L8.5 8.5l.94-2.06 2.06-.94-2.06-.94L8.5 2.5l-.94 2.06-2.06.94zm10 10l.94 2.06.94-2.06 2.06-.94-2.06-.94-.94-2.06-.94 2.06-2.06.94z\"/><path d=\"M17.41 7.96l-1.37-1.37c-.4-.4-.92-.59-1.43-.59-.52 0-1.04.2-1.43.59L10.3 9.45l-7.72 7.72c-.78.78-.78 2.05 0 2.83L4 21.41c.39.39.9.59 1.41.59.51 0 1.02-.2 1.41-.59l7.78-7.78 2.81-2.81c.8-.78.8-2.07 0-2.86zM5.41 20L4 18.59l7.72-7.72 1.47 1.35L5.41 20z\"/>\n",
              "  </svg>\n",
              "      </button>\n",
              "      \n",
              "  <style>\n",
              "    .colab-df-container {\n",
              "      display:flex;\n",
              "      flex-wrap:wrap;\n",
              "      gap: 12px;\n",
              "    }\n",
              "\n",
              "    .colab-df-convert {\n",
              "      background-color: #E8F0FE;\n",
              "      border: none;\n",
              "      border-radius: 50%;\n",
              "      cursor: pointer;\n",
              "      display: none;\n",
              "      fill: #1967D2;\n",
              "      height: 32px;\n",
              "      padding: 0 0 0 0;\n",
              "      width: 32px;\n",
              "    }\n",
              "\n",
              "    .colab-df-convert:hover {\n",
              "      background-color: #E2EBFA;\n",
              "      box-shadow: 0px 1px 2px rgba(60, 64, 67, 0.3), 0px 1px 3px 1px rgba(60, 64, 67, 0.15);\n",
              "      fill: #174EA6;\n",
              "    }\n",
              "\n",
              "    [theme=dark] .colab-df-convert {\n",
              "      background-color: #3B4455;\n",
              "      fill: #D2E3FC;\n",
              "    }\n",
              "\n",
              "    [theme=dark] .colab-df-convert:hover {\n",
              "      background-color: #434B5C;\n",
              "      box-shadow: 0px 1px 3px 1px rgba(0, 0, 0, 0.15);\n",
              "      filter: drop-shadow(0px 1px 2px rgba(0, 0, 0, 0.3));\n",
              "      fill: #FFFFFF;\n",
              "    }\n",
              "  </style>\n",
              "\n",
              "      <script>\n",
              "        const buttonEl =\n",
              "          document.querySelector('#df-d7f7a9d9-dbb7-49a1-adcb-f3c21455be37 button.colab-df-convert');\n",
              "        buttonEl.style.display =\n",
              "          google.colab.kernel.accessAllowed ? 'block' : 'none';\n",
              "\n",
              "        async function convertToInteractive(key) {\n",
              "          const element = document.querySelector('#df-d7f7a9d9-dbb7-49a1-adcb-f3c21455be37');\n",
              "          const dataTable =\n",
              "            await google.colab.kernel.invokeFunction('convertToInteractive',\n",
              "                                                     [key], {});\n",
              "          if (!dataTable) return;\n",
              "\n",
              "          const docLinkHtml = 'Like what you see? Visit the ' +\n",
              "            '<a target=\"_blank\" href=https://colab.research.google.com/notebooks/data_table.ipynb>data table notebook</a>'\n",
              "            + ' to learn more about interactive tables.';\n",
              "          element.innerHTML = '';\n",
              "          dataTable['output_type'] = 'display_data';\n",
              "          await google.colab.output.renderOutput(dataTable, element);\n",
              "          const docLink = document.createElement('div');\n",
              "          docLink.innerHTML = docLinkHtml;\n",
              "          element.appendChild(docLink);\n",
              "        }\n",
              "      </script>\n",
              "    </div>\n",
              "  </div>\n",
              "  "
            ]
          },
          "metadata": {},
          "execution_count": 10
        }
      ],
      "source": [
        "cd[cd['TotalCharges']==' ']"
      ]
    },
    {
      "cell_type": "code",
      "execution_count": 11,
      "id": "80328453",
      "metadata": {
        "execution": {
          "iopub.execute_input": "2022-11-24T17:52:20.192782Z",
          "iopub.status.busy": "2022-11-24T17:52:20.192414Z",
          "iopub.status.idle": "2022-11-24T17:52:20.205043Z",
          "shell.execute_reply": "2022-11-24T17:52:20.204216Z"
        },
        "papermill": {
          "duration": 0.029298,
          "end_time": "2022-11-24T17:52:20.207281",
          "exception": false,
          "start_time": "2022-11-24T17:52:20.177983",
          "status": "completed"
        },
        "tags": [],
        "id": "80328453"
      },
      "outputs": [],
      "source": [
        "cd['TotalCharges']=cd['TotalCharges'].str.strip()\n",
        "cd['TotalCharges']=cd['TotalCharges'].replace('',np.nan)\n",
        "\n",
        "cd['TotalCharges']=cd['TotalCharges'].astype(float)\n"
      ]
    },
    {
      "cell_type": "code",
      "execution_count": 13,
      "id": "36eec5d5",
      "metadata": {
        "execution": {
          "iopub.execute_input": "2022-11-24T17:52:20.622579Z",
          "iopub.status.busy": "2022-11-24T17:52:20.622195Z",
          "iopub.status.idle": "2022-11-24T17:52:20.628827Z",
          "shell.execute_reply": "2022-11-24T17:52:20.627760Z"
        },
        "papermill": {
          "duration": 0.024006,
          "end_time": "2022-11-24T17:52:20.631110",
          "exception": false,
          "start_time": "2022-11-24T17:52:20.607104",
          "status": "completed"
        },
        "tags": [],
        "id": "36eec5d5"
      },
      "outputs": [],
      "source": [
        "cd['TotalCharges']=cd['TotalCharges'].fillna(cd['TotalCharges'].median())"
      ]
    },
    {
      "cell_type": "code",
      "execution_count": 14,
      "id": "0f6233f7",
      "metadata": {
        "execution": {
          "iopub.execute_input": "2022-11-24T17:52:20.660374Z",
          "iopub.status.busy": "2022-11-24T17:52:20.659969Z",
          "iopub.status.idle": "2022-11-24T17:52:20.669726Z",
          "shell.execute_reply": "2022-11-24T17:52:20.668580Z"
        },
        "papermill": {
          "duration": 0.026949,
          "end_time": "2022-11-24T17:52:20.671949",
          "exception": false,
          "start_time": "2022-11-24T17:52:20.645000",
          "status": "completed"
        },
        "tags": [],
        "id": "0f6233f7"
      },
      "outputs": [],
      "source": [
        "numerical=list(cd.select_dtypes(include=['number']).columns)\n",
        "categorical=list(cd.select_dtypes(include=['object']).columns)"
      ]
    },
    {
      "cell_type": "code",
      "execution_count": 15,
      "id": "a4559814",
      "metadata": {
        "execution": {
          "iopub.execute_input": "2022-11-24T17:52:20.701737Z",
          "iopub.status.busy": "2022-11-24T17:52:20.700761Z",
          "iopub.status.idle": "2022-11-24T17:52:20.715299Z",
          "shell.execute_reply": "2022-11-24T17:52:20.714372Z"
        },
        "papermill": {
          "duration": 0.031913,
          "end_time": "2022-11-24T17:52:20.717488",
          "exception": false,
          "start_time": "2022-11-24T17:52:20.685575",
          "status": "completed"
        },
        "tags": [],
        "colab": {
          "base_uri": "https://localhost:8080/"
        },
        "id": "a4559814",
        "outputId": "b6cf773e-1ed0-476e-8f2a-1915d6990d20"
      },
      "outputs": [
        {
          "output_type": "execute_result",
          "data": {
            "text/plain": [
              "customerID          0\n",
              "gender              0\n",
              "SeniorCitizen       0\n",
              "Partner             0\n",
              "Dependents          0\n",
              "tenure              0\n",
              "PhoneService        0\n",
              "MultipleLines       0\n",
              "InternetService     0\n",
              "OnlineSecurity      0\n",
              "OnlineBackup        0\n",
              "DeviceProtection    0\n",
              "TechSupport         0\n",
              "StreamingTV         0\n",
              "StreamingMovies     0\n",
              "Contract            0\n",
              "PaperlessBilling    0\n",
              "PaymentMethod       0\n",
              "MonthlyCharges      0\n",
              "TotalCharges        0\n",
              "Churn               0\n",
              "dtype: int64"
            ]
          },
          "metadata": {},
          "execution_count": 15
        }
      ],
      "source": [
        "cd.isnull().sum()"
      ]
    },
    {
      "cell_type": "markdown",
      "id": "a9472958",
      "metadata": {
        "papermill": {
          "duration": 0.013982,
          "end_time": "2022-11-24T17:52:20.745316",
          "exception": false,
          "start_time": "2022-11-24T17:52:20.731334",
          "status": "completed"
        },
        "tags": [],
        "id": "a9472958"
      },
      "source": [
        "# 3. New Features"
      ]
    },
    {
      "cell_type": "markdown",
      "id": "49451658",
      "metadata": {
        "papermill": {
          "duration": 0.013433,
          "end_time": "2022-11-24T17:52:20.772585",
          "exception": false,
          "start_time": "2022-11-24T17:52:20.759152",
          "status": "completed"
        },
        "tags": [],
        "id": "49451658"
      },
      "source": [
        "## tenureclass"
      ]
    },
    {
      "cell_type": "code",
      "execution_count": 16,
      "id": "a4fa64cc",
      "metadata": {
        "execution": {
          "iopub.execute_input": "2022-11-24T17:52:20.801947Z",
          "iopub.status.busy": "2022-11-24T17:52:20.801310Z",
          "iopub.status.idle": "2022-11-24T17:52:20.818214Z",
          "shell.execute_reply": "2022-11-24T17:52:20.817353Z"
        },
        "papermill": {
          "duration": 0.034026,
          "end_time": "2022-11-24T17:52:20.820296",
          "exception": false,
          "start_time": "2022-11-24T17:52:20.786270",
          "status": "completed"
        },
        "tags": [],
        "id": "a4fa64cc"
      },
      "outputs": [],
      "source": [
        "def newclass(x):\n",
        "    if x>1 and x<=6:\n",
        "        x=1\n",
        "    elif x>6 and x<=12:\n",
        "        x=2\n",
        "    elif x>12 and x<=18:\n",
        "        x=3\n",
        "    elif x>18 and x<=24:\n",
        "        x=4\n",
        "    elif x>24 and x<=30:\n",
        "        x=5\n",
        "    elif x>30 and x<=36:\n",
        "        x=6\n",
        "    elif x>36 and x<=42:\n",
        "        x=7\n",
        "    elif x>42 and x<=48:\n",
        "        x=7\n",
        "    elif x>48 and x<=54:\n",
        "        x=8\n",
        "    elif x>54 and x<=60:\n",
        "        x=9\n",
        "    elif x>60 and x<=66:\n",
        "        x=10\n",
        "    elif x>66 and x<=72:\n",
        "        x=11\n",
        "    elif x > 72 and x <= 78:\n",
        "        x = 11\n",
        "    return x\n",
        "\n",
        "cd['tenureclass'] = cd[\"tenure\"].apply(lambda x: newclass(x))"
      ]
    },
    {
      "cell_type": "markdown",
      "id": "06f602e5",
      "metadata": {
        "papermill": {
          "duration": 0.013435,
          "end_time": "2022-11-24T17:52:20.847669",
          "exception": false,
          "start_time": "2022-11-24T17:52:20.834234",
          "status": "completed"
        },
        "tags": [],
        "id": "06f602e5"
      },
      "source": [
        "## FamilyPackages"
      ]
    },
    {
      "cell_type": "code",
      "execution_count": 17,
      "id": "972637c8",
      "metadata": {
        "execution": {
          "iopub.execute_input": "2022-11-24T17:52:20.877867Z",
          "iopub.status.busy": "2022-11-24T17:52:20.876785Z",
          "iopub.status.idle": "2022-11-24T17:52:21.044362Z",
          "shell.execute_reply": "2022-11-24T17:52:21.043454Z"
        },
        "papermill": {
          "duration": 0.185406,
          "end_time": "2022-11-24T17:52:21.046875",
          "exception": false,
          "start_time": "2022-11-24T17:52:20.861469",
          "status": "completed"
        },
        "tags": [],
        "id": "972637c8"
      },
      "outputs": [],
      "source": [
        "def family(a,b):\n",
        "    if (a=='Yes' and b=='Yes') or(a=='No' and b=='Yes'):\n",
        "        return 'Family'\n",
        "    elif (a=='Yes' and b=='No'):\n",
        "        return 'Couple'\n",
        "    elif (a=='No' and b=='No'):\n",
        "        return 'Single'\n",
        "\n",
        "\n",
        "cd['FamilyComposition'] = cd.apply(lambda x: family(x.Partner, x.Dependents), axis=1)"
      ]
    },
    {
      "cell_type": "markdown",
      "id": "f87c8289",
      "metadata": {
        "papermill": {
          "duration": 0.013539,
          "end_time": "2022-11-24T17:52:21.074858",
          "exception": false,
          "start_time": "2022-11-24T17:52:21.061319",
          "status": "completed"
        },
        "tags": [],
        "id": "f87c8289"
      },
      "source": [
        "# 4.Feature Selection"
      ]
    },
    {
      "cell_type": "markdown",
      "id": "ce4466c4",
      "metadata": {
        "papermill": {
          "duration": 0.013382,
          "end_time": "2022-11-24T17:52:21.101999",
          "exception": false,
          "start_time": "2022-11-24T17:52:21.088617",
          "status": "completed"
        },
        "tags": [],
        "id": "ce4466c4"
      },
      "source": [
        "# **Exploratory cd Analysis**\n"
      ]
    },
    {
      "cell_type": "code",
      "execution_count": 22,
      "id": "4d02e388",
      "metadata": {
        "execution": {
          "iopub.execute_input": "2022-11-24T17:52:21.131040Z",
          "iopub.status.busy": "2022-11-24T17:52:21.130658Z",
          "iopub.status.idle": "2022-11-24T17:52:21.140358Z",
          "shell.execute_reply": "2022-11-24T17:52:21.139261Z"
        },
        "papermill": {
          "duration": 0.026985,
          "end_time": "2022-11-24T17:52:21.142676",
          "exception": false,
          "start_time": "2022-11-24T17:52:21.115691",
          "status": "completed"
        },
        "tags": [],
        "id": "4d02e388"
      },
      "outputs": [],
      "source": [
        "cd=cd.drop('customerID',axis=1)"
      ]
    },
    {
      "cell_type": "code",
      "source": [
        "numerical=list(cd.select_dtypes(include=['number']).columns)\n",
        "categorical=list(cd.select_dtypes(include=['object']).columns)"
      ],
      "metadata": {
        "id": "CamqZm3qwMHm"
      },
      "id": "CamqZm3qwMHm",
      "execution_count": 24,
      "outputs": []
    },
    {
      "cell_type": "markdown",
      "source": [
        "Target variable\n",
        "\n",
        "We are trying to predict if the client left the company in the previous month.\n",
        "\n",
        "Therefore we have a binary classification problem with a slightly unbalanced target:\n",
        "\n",
        "Churn: No - 72.4%\n",
        "\n",
        "Churn: Yes - 27.6%"
      ],
      "metadata": {
        "id": "QcNrtjMawoXP"
      },
      "id": "QcNrtjMawoXP"
    },
    {
      "cell_type": "code",
      "source": [
        "ax = sns.catplot(y=\"Churn\", kind=\"count\", data=cd, height=2.6, aspect=2.5, orient='h')"
      ],
      "metadata": {
        "colab": {
          "base_uri": "https://localhost:8080/",
          "height": 197
        },
        "id": "ZE6XbLdjwnfK",
        "outputId": "c3398bcf-7694-4fe9-f6e8-ec54333abd34"
      },
      "id": "ZE6XbLdjwnfK",
      "execution_count": 27,
      "outputs": [
        {
          "output_type": "display_data",
          "data": {
            "text/plain": [
              "<Figure size 468x187.2 with 1 Axes>"
            ],
            "image/png": "[encoded data removed]"
          },
          "metadata": {
            "needs_background": "light"
          }
        }
      ]
    },
    {
      "cell_type": "markdown",
      "source": [
        "There is clearly a class imbalance which will affect predictions later. This will be addressed in Preprocessing."
      ],
      "metadata": {
        "id": "_rROmQFb4V2Z"
      },
      "id": "_rROmQFb4V2Z"
    },
    {
      "cell_type": "code",
      "execution_count": 25,
      "id": "ac58cfe8",
      "metadata": {
        "execution": {
          "iopub.execute_input": "2022-11-24T17:52:21.213456Z",
          "iopub.status.busy": "2022-11-24T17:52:21.213028Z",
          "iopub.status.idle": "2022-11-24T17:52:21.219404Z",
          "shell.execute_reply": "2022-11-24T17:52:21.218611Z"
        },
        "papermill": {
          "duration": 0.023415,
          "end_time": "2022-11-24T17:52:21.221366",
          "exception": false,
          "start_time": "2022-11-24T17:52:21.197951",
          "status": "completed"
        },
        "tags": [],
        "colab": {
          "base_uri": "https://localhost:8080/"
        },
        "id": "ac58cfe8",
        "outputId": "e4a314a7-a10c-4a2f-8007-e0a0162b6cff"
      },
      "outputs": [
        {
          "output_type": "execute_result",
          "data": {
            "text/plain": [
              "['SeniorCitizen', 'tenure', 'MonthlyCharges', 'TotalCharges', 'tenureclass']"
            ]
          },
          "metadata": {},
          "execution_count": 25
        }
      ],
      "source": [
        "#Numerical features\n",
        "numerical "
      ]
    },
    {
      "cell_type": "markdown",
      "source": [
        "The probability density distribution of numerical features can be estimate using the seaborn kdeplot function."
      ],
      "metadata": {
        "id": "yd6BbaCUw83_"
      },
      "id": "yd6BbaCUw83_"
    },
    {
      "cell_type": "code",
      "source": [
        "def kdeplot(feature):\n",
        "    plt.figure(figsize=(9, 4))\n",
        "    plt.title(\"KDE for {}\".format(feature))\n",
        "    ax0 = sns.kdeplot(cd[cd['Churn'] == 'No'][feature].dropna(), color= 'navy', label= 'Churn: No')\n",
        "    ax1 = sns.kdeplot(cd[cd['Churn'] == 'Yes'][feature].dropna(), color= 'orange', label= 'Churn: Yes')\n",
        "kdeplot('tenure')\n",
        "kdeplot('MonthlyCharges')\n",
        "kdeplot('TotalCharges')"
      ],
      "metadata": {
        "colab": {
          "base_uri": "https://localhost:8080/",
          "height": 851
        },
        "id": "IhSgI7A0weqg",
        "outputId": "fe42c1dc-f4fa-4b03-9dbb-a5c5caa099f2"
      },
      "id": "IhSgI7A0weqg",
      "execution_count": 28,
      "outputs": [
        {
          "output_type": "display_data",
          "data": {
            "text/plain": [
              "<Figure size 648x288 with 1 Axes>"
            ],
            "image/png": "[encoded data removed]"
          },
          "metadata": {
            "needs_background": "light"
          }
        },
        {
          "output_type": "display_data",
          "data": {
            "text/plain": [
              "<Figure size 648x288 with 1 Axes>"
            ],
            "image/png": "[encoded data removed]"
          },
          "metadata": {
            "needs_background": "light"
          }
        },
        {
          "output_type": "display_data",
          "data": {
            "text/plain": [
              "<Figure size 648x288 with 1 Axes>"
            ],
            "image/png": "[encoded data removed]"
          },
          "metadata": {
            "needs_background": "light"
          }
        }
      ]
    },
    {
      "cell_type": "markdown",
      "source": [
        "From the plots above we can conclude that:\n",
        "\n",
        "1. Recent clients are more likely to churn\n",
        "2. Clients with higher MonthlyCharges are also more likely to churn\n",
        "3. Tenure and MonthlyCharges are probably important features"
      ],
      "metadata": {
        "id": "IIQia4hCxY_I"
      },
      "id": "IIQia4hCxY_I"
    },
    {
      "cell_type": "code",
      "execution_count": 26,
      "id": "c53b229e",
      "metadata": {
        "execution": {
          "iopub.execute_input": "2022-11-24T17:52:21.250880Z",
          "iopub.status.busy": "2022-11-24T17:52:21.250519Z",
          "iopub.status.idle": "2022-11-24T17:52:21.256469Z",
          "shell.execute_reply": "2022-11-24T17:52:21.255714Z"
        },
        "papermill": {
          "duration": 0.023094,
          "end_time": "2022-11-24T17:52:21.258382",
          "exception": false,
          "start_time": "2022-11-24T17:52:21.235288",
          "status": "completed"
        },
        "tags": [],
        "colab": {
          "base_uri": "https://localhost:8080/"
        },
        "id": "c53b229e",
        "outputId": "157cfdb3-4a46-4fc0-c513-2964e18f7082"
      },
      "outputs": [
        {
          "output_type": "execute_result",
          "data": {
            "text/plain": [
              "['gender',\n",
              " 'Partner',\n",
              " 'Dependents',\n",
              " 'PhoneService',\n",
              " 'MultipleLines',\n",
              " 'InternetService',\n",
              " 'OnlineSecurity',\n",
              " 'OnlineBackup',\n",
              " 'DeviceProtection',\n",
              " 'TechSupport',\n",
              " 'StreamingTV',\n",
              " 'StreamingMovies',\n",
              " 'Contract',\n",
              " 'PaperlessBilling',\n",
              " 'PaymentMethod',\n",
              " 'Churn',\n",
              " 'FamilyComposition']"
            ]
          },
          "metadata": {},
          "execution_count": 26
        }
      ],
      "source": [
        "#Categorical features\n",
        "categorical"
      ]
    },
    {
      "cell_type": "markdown",
      "source": [
        "Lets plot some graphs \n"
      ],
      "metadata": {
        "id": "hEQWJeuAx6TB"
      },
      "id": "hEQWJeuAx6TB"
    },
    {
      "cell_type": "code",
      "source": [
        "# SeniorCetizen vs Churn \n",
        "def barplot_percentages(feature, orient='v', axis_name=\"percentage of customers\"):\n",
        "    ratios = pd.DataFrame()\n",
        "    g = cd.groupby(feature)[\"Churn\"].value_counts().to_frame()\n",
        "    g = g.rename({\"Churn\": axis_name}, axis=1).reset_index()\n",
        "    g[axis_name] = g[axis_name]/len(cd)\n",
        "    if orient == 'v':\n",
        "        ax = sns.barplot(x=feature, y= axis_name, hue='Churn', data=g, orient=orient)\n",
        "        ax.set_yticklabels(['{:,.0%}'.format(y) for y in ax.get_yticks()])\n",
        "    else:\n",
        "        ax = sns.barplot(x= axis_name, y=feature, hue='Churn', data=g, orient=orient)\n",
        "        ax.set_xticklabels(['{:,.0%}'.format(x) for x in ax.get_xticks()])\n",
        "    ax.plot()\n",
        "barplot_percentages(\"SeniorCitizen\")\n"
      ],
      "metadata": {
        "colab": {
          "base_uri": "https://localhost:8080/",
          "height": 279
        },
        "id": "S-WodWIYyY8A",
        "outputId": "7039960a-255e-4cfe-de95-ae4de1b6fcb3"
      },
      "id": "S-WodWIYyY8A",
      "execution_count": 29,
      "outputs": [
        {
          "output_type": "display_data",
          "data": {
            "text/plain": [
              "<Figure size 432x288 with 1 Axes>"
            ],
            "image/png": "[encoded data removed]"
          },
          "metadata": {
            "needs_background": "light"
          }
        }
      ]
    },
    {
      "cell_type": "code",
      "execution_count": null,
      "id": "bb5bfb2d",
      "metadata": {
        "execution": {
          "iopub.execute_input": "2022-11-24T17:52:21.315978Z",
          "iopub.status.busy": "2022-11-24T17:52:21.315606Z",
          "iopub.status.idle": "2022-11-24T17:52:21.476504Z",
          "shell.execute_reply": "2022-11-24T17:52:21.475454Z"
        },
        "papermill": {
          "duration": 0.178622,
          "end_time": "2022-11-24T17:52:21.478904",
          "exception": false,
          "start_time": "2022-11-24T17:52:21.300282",
          "status": "completed"
        },
        "tags": [],
        "id": "bb5bfb2d",
        "outputId": "fc9f275a-8bc9-4863-b822-d417d7f5421b"
      },
      "outputs": [
        {
          "data": {
            "text/plain": [
              "<AxesSubplot:xlabel='gender', ylabel='count'>"
            ]
          },
          "execution_count": 16,
          "metadata": {},
          "output_type": "execute_result"
        },
        {
          "data": {
            "image/png": "[encoded data removed]",
            "text/plain": [
              "<Figure size 432x288 with 1 Axes>"
            ]
          },
          "metadata": {
            "needs_background": "light"
          },
          "output_type": "display_data"
        }
      ],
      "source": [
        "# Gender v/s Churn\n",
        "sns.countplot(x=cd['gender'],hue=cd['Churn'])"
      ]
    },
    {
      "cell_type": "code",
      "execution_count": 30,
      "id": "6c78e36d",
      "metadata": {
        "execution": {
          "iopub.execute_input": "2022-11-24T17:52:21.510434Z",
          "iopub.status.busy": "2022-11-24T17:52:21.509330Z",
          "iopub.status.idle": "2022-11-24T17:52:21.526170Z",
          "shell.execute_reply": "2022-11-24T17:52:21.525227Z"
        },
        "papermill": {
          "duration": 0.035069,
          "end_time": "2022-11-24T17:52:21.528660",
          "exception": false,
          "start_time": "2022-11-24T17:52:21.493591",
          "status": "completed"
        },
        "tags": [],
        "colab": {
          "base_uri": "https://localhost:8080/"
        },
        "id": "6c78e36d",
        "outputId": "a6730fff-60ec-458a-ac11-e3cb9528db53"
      },
      "outputs": [
        {
          "output_type": "execute_result",
          "data": {
            "text/plain": [
              "gender\n",
              "Female    0.269209\n",
              "Male      0.261603\n",
              "dtype: float64"
            ]
          },
          "metadata": {},
          "execution_count": 30
        }
      ],
      "source": [
        "likelihood = cd[cd['Churn']=='Yes'].groupby('gender').apply(len)/cd.groupby('gender').apply(len)\n",
        "likelihood"
      ]
    },
    {
      "cell_type": "code",
      "source": [
        "g = sns.FacetGrid(cd, row='SeniorCitizen', col=\"gender\", hue=\"Churn\", height=3.5)\n",
        "g.map(plt.scatter, \"tenure\", \"MonthlyCharges\", alpha=0.6)\n",
        "g.add_legend();"
      ],
      "metadata": {
        "colab": {
          "base_uri": "https://localhost:8080/",
          "height": 513
        },
        "id": "G0GN5Yxp1CzF",
        "outputId": "1b342ae8-5108-4d55-8ee4-eb0689f6ffa1"
      },
      "id": "G0GN5Yxp1CzF",
      "execution_count": 32,
      "outputs": [
        {
          "output_type": "display_data",
          "data": {
            "text/plain": [
              "<Figure size 556x504 with 4 Axes>"
            ],
            "image/png": "[encoded data removed]"
          },
          "metadata": {
            "needs_background": "light"
          }
        }
      ]
    },
    {
      "cell_type": "markdown",
      "source": [
        "1. Gender is not an indicative of churn.\n",
        "2. SeniorCitizens are only 16% of customers, but they have a much higher churn rate: 42% against 23% for non-senior customers.\n",
        "3. There are no special relations between this categorical values and the main numerical features."
      ],
      "metadata": {
        "id": "jZTPvs-4zhY_"
      },
      "id": "jZTPvs-4zhY_"
    },
    {
      "cell_type": "code",
      "execution_count": null,
      "id": "b346c0d2",
      "metadata": {
        "execution": {
          "iopub.execute_input": "2022-11-24T17:52:21.559915Z",
          "iopub.status.busy": "2022-11-24T17:52:21.559191Z",
          "iopub.status.idle": "2022-11-24T17:52:21.891194Z",
          "shell.execute_reply": "2022-11-24T17:52:21.889985Z"
        },
        "papermill": {
          "duration": 0.350353,
          "end_time": "2022-11-24T17:52:21.893661",
          "exception": false,
          "start_time": "2022-11-24T17:52:21.543308",
          "status": "completed"
        },
        "tags": [],
        "id": "b346c0d2",
        "outputId": "33b343f7-7b82-4601-f557-43db024290fe"
      },
      "outputs": [
        {
          "name": "stdout",
          "output_type": "stream",
          "text": [
            "\n",
            "\n",
            "There is Churn\n",
            "gender\n",
            "Female    0.269209\n",
            "Male      0.261603\n",
            "dtype: float64\n",
            "\n",
            "\n",
            "There is not Churn\n",
            "gender\n",
            "Female    0.730791\n",
            "Male      0.738397\n",
            "dtype: float64\n",
            "\n",
            "\n",
            "There is Churn\n",
            "Partner\n",
            "No     0.329580\n",
            "Yes    0.196649\n",
            "dtype: float64\n",
            "\n",
            "\n",
            "There is not Churn\n",
            "Partner\n",
            "No     0.670420\n",
            "Yes    0.803351\n",
            "dtype: float64\n",
            "\n",
            "\n",
            "There is Churn\n",
            "Dependents\n",
            "No     0.312791\n",
            "Yes    0.154502\n",
            "dtype: float64\n",
            "\n",
            "\n",
            "There is not Churn\n",
            "Dependents\n",
            "No     0.687209\n",
            "Yes    0.845498\n",
            "dtype: float64\n",
            "\n",
            "\n",
            "There is Churn\n",
            "PhoneService\n",
            "No     0.249267\n",
            "Yes    0.267096\n",
            "dtype: float64\n",
            "\n",
            "\n",
            "There is not Churn\n",
            "PhoneService\n",
            "No     0.750733\n",
            "Yes    0.732904\n",
            "dtype: float64\n",
            "\n",
            "\n",
            "There is Churn\n",
            "MultipleLines\n",
            "No                  0.250442\n",
            "No phone service    0.249267\n",
            "Yes                 0.286099\n",
            "dtype: float64\n",
            "\n",
            "\n",
            "There is not Churn\n",
            "MultipleLines\n",
            "No                  0.749558\n",
            "No phone service    0.750733\n",
            "Yes                 0.713901\n",
            "dtype: float64\n",
            "\n",
            "\n",
            "There is Churn\n",
            "InternetService\n",
            "DSL            0.189591\n",
            "Fiber optic    0.418928\n",
            "No             0.074050\n",
            "dtype: float64\n",
            "\n",
            "\n",
            "There is not Churn\n",
            "InternetService\n",
            "DSL            0.810409\n",
            "Fiber optic    0.581072\n",
            "No             0.925950\n",
            "dtype: float64\n",
            "\n",
            "\n",
            "There is Churn\n",
            "OnlineSecurity\n",
            "No                     0.417667\n",
            "No internet service    0.074050\n",
            "Yes                    0.146112\n",
            "dtype: float64\n",
            "\n",
            "\n",
            "There is not Churn\n",
            "OnlineSecurity\n",
            "No                     0.582333\n",
            "No internet service    0.925950\n",
            "Yes                    0.853888\n",
            "dtype: float64\n",
            "\n",
            "\n",
            "There is Churn\n",
            "OnlineBackup\n",
            "No                     0.399288\n",
            "No internet service    0.074050\n",
            "Yes                    0.215315\n",
            "dtype: float64\n",
            "\n",
            "\n",
            "There is not Churn\n",
            "OnlineBackup\n",
            "No                     0.600712\n",
            "No internet service    0.925950\n",
            "Yes                    0.784685\n",
            "dtype: float64\n",
            "\n",
            "\n",
            "There is Churn\n",
            "DeviceProtection\n",
            "No                     0.391276\n",
            "No internet service    0.074050\n",
            "Yes                    0.225021\n",
            "dtype: float64\n",
            "\n",
            "\n",
            "There is not Churn\n",
            "DeviceProtection\n",
            "No                     0.608724\n",
            "No internet service    0.925950\n",
            "Yes                    0.774979\n",
            "dtype: float64\n",
            "\n",
            "\n",
            "There is Churn\n",
            "TechSupport\n",
            "No                     0.416355\n",
            "No internet service    0.074050\n",
            "Yes                    0.151663\n",
            "dtype: float64\n",
            "\n",
            "\n",
            "There is not Churn\n",
            "TechSupport\n",
            "No                     0.583645\n",
            "No internet service    0.925950\n",
            "Yes                    0.848337\n",
            "dtype: float64\n",
            "\n",
            "\n",
            "There is Churn\n",
            "StreamingTV\n",
            "No                     0.335231\n",
            "No internet service    0.074050\n",
            "Yes                    0.300702\n",
            "dtype: float64\n",
            "\n",
            "\n",
            "There is not Churn\n",
            "StreamingTV\n",
            "No                     0.664769\n",
            "No internet service    0.925950\n",
            "Yes                    0.699298\n",
            "dtype: float64\n",
            "\n",
            "\n",
            "There is Churn\n",
            "StreamingMovies\n",
            "No                     0.336804\n",
            "No internet service    0.074050\n",
            "Yes                    0.299414\n",
            "dtype: float64\n",
            "\n",
            "\n",
            "There is not Churn\n",
            "StreamingMovies\n",
            "No                     0.663196\n",
            "No internet service    0.925950\n",
            "Yes                    0.700586\n",
            "dtype: float64\n",
            "\n",
            "\n",
            "There is Churn\n",
            "Contract\n",
            "Month-to-month    0.427097\n",
            "One year          0.112695\n",
            "Two year          0.028319\n",
            "dtype: float64\n",
            "\n",
            "\n",
            "There is not Churn\n",
            "Contract\n",
            "Month-to-month    0.572903\n",
            "One year          0.887305\n",
            "Two year          0.971681\n",
            "dtype: float64\n",
            "\n",
            "\n",
            "There is Churn\n",
            "PaperlessBilling\n",
            "No     0.163301\n",
            "Yes    0.335651\n",
            "dtype: float64\n",
            "\n",
            "\n",
            "There is not Churn\n",
            "PaperlessBilling\n",
            "No     0.836699\n",
            "Yes    0.664349\n",
            "dtype: float64\n",
            "\n",
            "\n",
            "There is Churn\n",
            "PaymentMethod\n",
            "Bank transfer (automatic)    0.167098\n",
            "Credit card (automatic)      0.152431\n",
            "Electronic check             0.452854\n",
            "Mailed check                 0.191067\n",
            "dtype: float64\n",
            "\n",
            "\n",
            "There is not Churn\n",
            "PaymentMethod\n",
            "Bank transfer (automatic)    0.832902\n",
            "Credit card (automatic)      0.847569\n",
            "Electronic check             0.547146\n",
            "Mailed check                 0.808933\n",
            "dtype: float64\n",
            "\n",
            "\n",
            "There is Churn\n",
            "Churn\n",
            "No     NaN\n",
            "Yes    1.0\n",
            "dtype: float64\n",
            "\n",
            "\n",
            "There is not Churn\n",
            "Churn\n",
            "No     1.0\n",
            "Yes    NaN\n",
            "dtype: float64\n",
            "\n",
            "\n",
            "There is Churn\n",
            "FamilyComposition\n",
            "Couple    0.254083\n",
            "Family    0.154502\n",
            "Single    0.342378\n",
            "dtype: float64\n",
            "\n",
            "\n",
            "There is not Churn\n",
            "FamilyComposition\n",
            "Couple    0.745917\n",
            "Family    0.845498\n",
            "Single    0.657622\n",
            "dtype: float64\n"
          ]
        }
      ],
      "source": [
        "for feature in categorical:  \n",
        "    print('\\n')\n",
        "    print('There is Churn')\n",
        "    likelihood = cd[cd['Churn']=='Yes'].groupby(feature).apply(len)/cd.groupby(feature).apply(len)\n",
        "    print(likelihood)\n",
        "    \n",
        "    \n",
        "    likelihood1 = cd[cd['Churn']=='No'].groupby(feature).apply(len)/cd.groupby(feature).apply(len)\n",
        "    print('\\n')\n",
        "    print('There is not Churn')\n",
        "    print(likelihood1)"
      ]
    },
    {
      "cell_type": "markdown",
      "id": "5943d757",
      "metadata": {
        "papermill": {
          "duration": 0.014526,
          "end_time": "2022-11-24T17:52:21.923135",
          "exception": false,
          "start_time": "2022-11-24T17:52:21.908609",
          "status": "completed"
        },
        "tags": [],
        "id": "5943d757"
      },
      "source": [
        "* If we look at the probabilities of these categoircal columns we can see how they affect the churn of customers  and draw some conclusions such as :  \n",
        "* Customers that doesn't have partners are more likely to churn.\n",
        "* Customers without dependents are also more likely to churn.\n",
        "* Customers with multiple lines have a slightly higher churn rate.\n",
        "* Clients without internet have a very low churn rate.\n",
        "* Customers with paperless billing are more probable to churn\n",
        "* The preferred payment method is Electronic check with around 35% of customers. This method also has a very high churn rate\n",
        "* Short term contracts have higher churn rates\n",
        "* Customers with fiber are more probable to churn than those with DSL connection\n",
        "* We can see that the categorical values all show clear effects on customer behaviour.\n",
        "\n"
      ]
    },
    {
      "cell_type": "code",
      "source": [
        "# Contract vs MontlyCharges\n",
        "ax = sns.catplot(x=\"Contract\", y=\"MonthlyCharges\", hue=\"Churn\", kind=\"box\", data=cd, height=4.2, aspect=1.4)"
      ],
      "metadata": {
        "colab": {
          "base_uri": "https://localhost:8080/",
          "height": 312
        },
        "id": "fT4RUyrw3WF-",
        "outputId": "a05ae455-3ce4-4021-dd5c-1f303e38672a"
      },
      "id": "fT4RUyrw3WF-",
      "execution_count": 33,
      "outputs": [
        {
          "output_type": "display_data",
          "data": {
            "text/plain": [
              "<Figure size 475.36x302.4 with 1 Axes>"
            ],
            "image/png": "[encoded data removed]"
          },
          "metadata": {
            "needs_background": "light"
          }
        }
      ]
    },
    {
      "cell_type": "code",
      "source": [
        "ax = sns.catplot(y=\"Churn\", x=\"MonthlyCharges\", row=\"PaymentMethod\", kind=\"box\", data=cd, height=1.5, aspect=4, orient='h')\n"
      ],
      "metadata": {
        "colab": {
          "base_uri": "https://localhost:8080/",
          "height": 441
        },
        "id": "g-lH26K93oHU",
        "outputId": "c18355c3-3d92-43b2-d2fe-c205f3239d24"
      },
      "id": "g-lH26K93oHU",
      "execution_count": 34,
      "outputs": [
        {
          "output_type": "display_data",
          "data": {
            "text/plain": [
              "<Figure size 432x432 with 4 Axes>"
            ],
            "image/png": "[encoded data removed]"
          },
          "metadata": {
            "needs_background": "light"
          }
        }
      ]
    },
    {
      "cell_type": "markdown",
      "source": [
        "1. Longer contracts are more affected by higher monthly charges (for churn rate).\n",
        "2. Mailed checks have lower charges\n",
        "3. There is a huge gap in charges between customers that churn and those that don't with respect to Mailed Check"
      ],
      "metadata": {
        "id": "FGqKcFh83vc3"
      },
      "id": "FGqKcFh83vc3"
    },
    {
      "cell_type": "code",
      "execution_count": 35,
      "id": "351a6d94",
      "metadata": {
        "execution": {
          "iopub.execute_input": "2022-11-24T17:52:21.954646Z",
          "iopub.status.busy": "2022-11-24T17:52:21.953903Z",
          "iopub.status.idle": "2022-11-24T17:52:21.968177Z",
          "shell.execute_reply": "2022-11-24T17:52:21.967289Z"
        },
        "papermill": {
          "duration": 0.032341,
          "end_time": "2022-11-24T17:52:21.970304",
          "exception": false,
          "start_time": "2022-11-24T17:52:21.937963",
          "status": "completed"
        },
        "tags": [],
        "colab": {
          "base_uri": "https://localhost:8080/",
          "height": 206
        },
        "id": "351a6d94",
        "outputId": "74263c37-6372-4882-e720-0d982bd3894d"
      },
      "outputs": [
        {
          "output_type": "execute_result",
          "data": {
            "text/plain": [
              "                SeniorCitizen    tenure  MonthlyCharges  TotalCharges  \\\n",
              "SeniorCitizen        1.000000  0.016567        0.220173      0.102652   \n",
              "tenure               0.016567  1.000000        0.247900      0.825464   \n",
              "MonthlyCharges       0.220173  0.247900        1.000000      0.650864   \n",
              "TotalCharges         0.102652  0.825464        0.650864      1.000000   \n",
              "tenureclass          0.017574  0.995891        0.246337      0.820282   \n",
              "\n",
              "                tenureclass  \n",
              "SeniorCitizen      0.017574  \n",
              "tenure             0.995891  \n",
              "MonthlyCharges     0.246337  \n",
              "TotalCharges       0.820282  \n",
              "tenureclass        1.000000  "
            ],
            "text/html": [
              "\n",
              "  <div id=\"df-e56fee05-6801-4a57-9092-45b7de5c5cf2\">\n",
              "    <div class=\"colab-df-container\">\n",
              "      <div>\n",
              "<style scoped>\n",
              "    .dataframe tbody tr th:only-of-type {\n",
              "        vertical-align: middle;\n",
              "    }\n",
              "\n",
              "    .dataframe tbody tr th {\n",
              "        vertical-align: top;\n",
              "    }\n",
              "\n",
              "    .dataframe thead th {\n",
              "        text-align: right;\n",
              "    }\n",
              "</style>\n",
              "<table border=\"1\" class=\"dataframe\">\n",
              "  <thead>\n",
              "    <tr style=\"text-align: right;\">\n",
              "      <th></th>\n",
              "      <th>SeniorCitizen</th>\n",
              "      <th>tenure</th>\n",
              "      <th>MonthlyCharges</th>\n",
              "      <th>TotalCharges</th>\n",
              "      <th>tenureclass</th>\n",
              "    </tr>\n",
              "  </thead>\n",
              "  <tbody>\n",
              "    <tr>\n",
              "      <th>SeniorCitizen</th>\n",
              "      <td>1.000000</td>\n",
              "      <td>0.016567</td>\n",
              "      <td>0.220173</td>\n",
              "      <td>0.102652</td>\n",
              "      <td>0.017574</td>\n",
              "    </tr>\n",
              "    <tr>\n",
              "      <th>tenure</th>\n",
              "      <td>0.016567</td>\n",
              "      <td>1.000000</td>\n",
              "      <td>0.247900</td>\n",
              "      <td>0.825464</td>\n",
              "      <td>0.995891</td>\n",
              "    </tr>\n",
              "    <tr>\n",
              "      <th>MonthlyCharges</th>\n",
              "      <td>0.220173</td>\n",
              "      <td>0.247900</td>\n",
              "      <td>1.000000</td>\n",
              "      <td>0.650864</td>\n",
              "      <td>0.246337</td>\n",
              "    </tr>\n",
              "    <tr>\n",
              "      <th>TotalCharges</th>\n",
              "      <td>0.102652</td>\n",
              "      <td>0.825464</td>\n",
              "      <td>0.650864</td>\n",
              "      <td>1.000000</td>\n",
              "      <td>0.820282</td>\n",
              "    </tr>\n",
              "    <tr>\n",
              "      <th>tenureclass</th>\n",
              "      <td>0.017574</td>\n",
              "      <td>0.995891</td>\n",
              "      <td>0.246337</td>\n",
              "      <td>0.820282</td>\n",
              "      <td>1.000000</td>\n",
              "    </tr>\n",
              "  </tbody>\n",
              "</table>\n",
              "</div>\n",
              "      <button class=\"colab-df-convert\" onclick=\"convertToInteractive('df-e56fee05-6801-4a57-9092-45b7de5c5cf2')\"\n",
              "              title=\"Convert this dataframe to an interactive table.\"\n",
              "              style=\"display:none;\">\n",
              "        \n",
              "  <svg xmlns=\"http://www.w3.org/2000/svg\" height=\"24px\"viewBox=\"0 0 24 24\"\n",
              "       width=\"24px\">\n",
              "    <path d=\"M0 0h24v24H0V0z\" fill=\"none\"/>\n",
              "    <path d=\"M18.56 5.44l.94 2.06.94-2.06 2.06-.94-2.06-.94-.94-2.06-.94 2.06-2.06.94zm-11 1L8.5 8.5l.94-2.06 2.06-.94-2.06-.94L8.5 2.5l-.94 2.06-2.06.94zm10 10l.94 2.06.94-2.06 2.06-.94-2.06-.94-.94-2.06-.94 2.06-2.06.94z\"/><path d=\"M17.41 7.96l-1.37-1.37c-.4-.4-.92-.59-1.43-.59-.52 0-1.04.2-1.43.59L10.3 9.45l-7.72 7.72c-.78.78-.78 2.05 0 2.83L4 21.41c.39.39.9.59 1.41.59.51 0 1.02-.2 1.41-.59l7.78-7.78 2.81-2.81c.8-.78.8-2.07 0-2.86zM5.41 20L4 18.59l7.72-7.72 1.47 1.35L5.41 20z\"/>\n",
              "  </svg>\n",
              "      </button>\n",
              "      \n",
              "  <style>\n",
              "    .colab-df-container {\n",
              "      display:flex;\n",
              "      flex-wrap:wrap;\n",
              "      gap: 12px;\n",
              "    }\n",
              "\n",
              "    .colab-df-convert {\n",
              "      background-color: #E8F0FE;\n",
              "      border: none;\n",
              "      border-radius: 50%;\n",
              "      cursor: pointer;\n",
              "      display: none;\n",
              "      fill: #1967D2;\n",
              "      height: 32px;\n",
              "      padding: 0 0 0 0;\n",
              "      width: 32px;\n",
              "    }\n",
              "\n",
              "    .colab-df-convert:hover {\n",
              "      background-color: #E2EBFA;\n",
              "      box-shadow: 0px 1px 2px rgba(60, 64, 67, 0.3), 0px 1px 3px 1px rgba(60, 64, 67, 0.15);\n",
              "      fill: #174EA6;\n",
              "    }\n",
              "\n",
              "    [theme=dark] .colab-df-convert {\n",
              "      background-color: #3B4455;\n",
              "      fill: #D2E3FC;\n",
              "    }\n",
              "\n",
              "    [theme=dark] .colab-df-convert:hover {\n",
              "      background-color: #434B5C;\n",
              "      box-shadow: 0px 1px 3px 1px rgba(0, 0, 0, 0.15);\n",
              "      filter: drop-shadow(0px 1px 2px rgba(0, 0, 0, 0.3));\n",
              "      fill: #FFFFFF;\n",
              "    }\n",
              "  </style>\n",
              "\n",
              "      <script>\n",
              "        const buttonEl =\n",
              "          document.querySelector('#df-e56fee05-6801-4a57-9092-45b7de5c5cf2 button.colab-df-convert');\n",
              "        buttonEl.style.display =\n",
              "          google.colab.kernel.accessAllowed ? 'block' : 'none';\n",
              "\n",
              "        async function convertToInteractive(key) {\n",
              "          const element = document.querySelector('#df-e56fee05-6801-4a57-9092-45b7de5c5cf2');\n",
              "          const dataTable =\n",
              "            await google.colab.kernel.invokeFunction('convertToInteractive',\n",
              "                                                     [key], {});\n",
              "          if (!dataTable) return;\n",
              "\n",
              "          const docLinkHtml = 'Like what you see? Visit the ' +\n",
              "            '<a target=\"_blank\" href=https://colab.research.google.com/notebooks/data_table.ipynb>data table notebook</a>'\n",
              "            + ' to learn more about interactive tables.';\n",
              "          element.innerHTML = '';\n",
              "          dataTable['output_type'] = 'display_data';\n",
              "          await google.colab.output.renderOutput(dataTable, element);\n",
              "          const docLink = document.createElement('div');\n",
              "          docLink.innerHTML = docLinkHtml;\n",
              "          element.appendChild(docLink);\n",
              "        }\n",
              "      </script>\n",
              "    </div>\n",
              "  </div>\n",
              "  "
            ]
          },
          "metadata": {},
          "execution_count": 35
        }
      ],
      "source": [
        "# Correlation between features\n",
        "corr = cd.corr()\n",
        "corr"
      ]
    },
    {
      "cell_type": "markdown",
      "id": "61fdbdb8",
      "metadata": {
        "papermill": {
          "duration": 0.014739,
          "end_time": "2022-11-24T17:52:22.045386",
          "exception": false,
          "start_time": "2022-11-24T17:52:22.030647",
          "status": "completed"
        },
        "tags": [],
        "id": "61fdbdb8"
      },
      "source": [
        "* TotalCharges is corrlated with MonthlyCharges, tenure and others so it should be dropped"
      ]
    },
    {
      "cell_type": "code",
      "source": [
        "cd=cd.drop('TotalCharges',axis=1)"
      ],
      "metadata": {
        "id": "Y2-ZIFpt5LlM"
      },
      "id": "Y2-ZIFpt5LlM",
      "execution_count": 36,
      "outputs": []
    },
    {
      "cell_type": "markdown",
      "id": "5bfa3797",
      "metadata": {
        "papermill": {
          "duration": 0.014826,
          "end_time": "2022-11-24T17:52:22.075264",
          "exception": false,
          "start_time": "2022-11-24T17:52:22.060438",
          "status": "completed"
        },
        "tags": [],
        "id": "5bfa3797"
      },
      "source": [
        "## Numerical"
      ]
    },
    {
      "cell_type": "code",
      "execution_count": null,
      "id": "fdbb656c",
      "metadata": {
        "execution": {
          "iopub.execute_input": "2022-11-24T17:52:23.534633Z",
          "iopub.status.busy": "2022-11-24T17:52:23.533449Z",
          "iopub.status.idle": "2022-11-24T17:52:23.842854Z",
          "shell.execute_reply": "2022-11-24T17:52:23.842110Z"
        },
        "papermill": {
          "duration": 0.329603,
          "end_time": "2022-11-24T17:52:23.845158",
          "exception": false,
          "start_time": "2022-11-24T17:52:23.515555",
          "status": "completed"
        },
        "tags": [],
        "id": "fdbb656c",
        "outputId": "02577177-c09c-48ba-ed7d-58345cded8d9"
      },
      "outputs": [
        {
          "data": {
            "image/png": "[encoded data removed]",
            "text/plain": [
              "<Figure size 432x288 with 1 Axes>"
            ]
          },
          "metadata": {
            "needs_background": "light"
          },
          "output_type": "display_data"
        }
      ],
      "source": [
        "cd['bin'] = pd.cut(cd['tenure'], bins=range(0,101,10), labels=[f'{l}-{l+10}' for l in range(0,91,10)])\n",
        "ax=sns.countplot(x='bin', hue='Churn', cd=cd, )\n",
        "ax.set(xlabel='tenure', ylabel='count')\n",
        "cd=cd.drop('bin',axis=1)"
      ]
    },
    {
      "cell_type": "markdown",
      "id": "03d81119",
      "metadata": {
        "papermill": {
          "duration": 0.016733,
          "end_time": "2022-11-24T17:52:23.878603",
          "exception": false,
          "start_time": "2022-11-24T17:52:23.861870",
          "status": "completed"
        },
        "tags": [],
        "id": "03d81119"
      },
      "source": [
        "* Churn seems to occur mostly between 0-10 months"
      ]
    },
    {
      "cell_type": "code",
      "execution_count": null,
      "id": "cf5d8830",
      "metadata": {
        "execution": {
          "iopub.execute_input": "2022-11-24T17:52:23.913733Z",
          "iopub.status.busy": "2022-11-24T17:52:23.913172Z",
          "iopub.status.idle": "2022-11-24T17:52:24.208591Z",
          "shell.execute_reply": "2022-11-24T17:52:24.207844Z"
        },
        "papermill": {
          "duration": 0.315503,
          "end_time": "2022-11-24T17:52:24.210777",
          "exception": false,
          "start_time": "2022-11-24T17:52:23.895274",
          "status": "completed"
        },
        "tags": [],
        "id": "cf5d8830",
        "outputId": "2a0334a5-0116-4c08-90d3-77676cd47cbf"
      },
      "outputs": [
        {
          "data": {
            "image/png": "[encoded data removed]",
            "text/plain": [
              "<Figure size 432x288 with 1 Axes>"
            ]
          },
          "metadata": {
            "needs_background": "light"
          },
          "output_type": "display_data"
        }
      ],
      "source": [
        "cd['bin1'] = pd.cut(cd['MonthlyCharges'], bins=range(0,101,10), labels=[f'{l}-{l+10}' for l in range(0,91,10)])\n",
        "ax=sns.countplot(x='bin1', hue='Churn', cd=cd, )\n",
        "ax.set(xlabel='MonthlyCharges', ylabel='count')\n",
        "cd=cd.drop('bin1',axis=1)"
      ]
    },
    {
      "cell_type": "markdown",
      "id": "9b312964",
      "metadata": {
        "papermill": {
          "duration": 0.016594,
          "end_time": "2022-11-24T17:52:24.244231",
          "exception": false,
          "start_time": "2022-11-24T17:52:24.227637",
          "status": "completed"
        },
        "tags": [],
        "id": "9b312964"
      },
      "source": [
        "* It appears the more people pay monthly the more likely they are to Churn and most Churn occurs at the higher ends"
      ]
    },
    {
      "cell_type": "markdown",
      "id": "d593b163",
      "metadata": {
        "papermill": {
          "duration": 0.016428,
          "end_time": "2022-11-24T17:52:24.277409",
          "exception": false,
          "start_time": "2022-11-24T17:52:24.260981",
          "status": "completed"
        },
        "tags": [],
        "id": "d593b163"
      },
      "source": [
        "# 5. Preprocessing"
      ]
    },
    {
      "cell_type": "markdown",
      "id": "18b43a00",
      "metadata": {
        "papermill": {
          "duration": 0.016493,
          "end_time": "2022-11-24T17:52:24.310876",
          "exception": false,
          "start_time": "2022-11-24T17:52:24.294383",
          "status": "completed"
        },
        "tags": [],
        "id": "18b43a00"
      },
      "source": [
        "## Encoding"
      ]
    },
    {
      "cell_type": "code",
      "execution_count": 39,
      "id": "f4a95381",
      "metadata": {
        "execution": {
          "iopub.execute_input": "2022-11-24T17:52:24.347152Z",
          "iopub.status.busy": "2022-11-24T17:52:24.346453Z",
          "iopub.status.idle": "2022-11-24T17:52:24.584286Z",
          "shell.execute_reply": "2022-11-24T17:52:24.583392Z"
        },
        "papermill": {
          "duration": 0.258553,
          "end_time": "2022-11-24T17:52:24.586652",
          "exception": false,
          "start_time": "2022-11-24T17:52:24.328099",
          "status": "completed"
        },
        "tags": [],
        "colab": {
          "base_uri": "https://localhost:8080/",
          "height": 505
        },
        "id": "f4a95381",
        "outputId": "10729591-b648-4565-afbe-49dcdbbd9b5d"
      },
      "outputs": [
        {
          "output_type": "execute_result",
          "data": {
            "text/plain": [
              "      gender_Male  Partner_Yes  Dependents_Yes  PhoneService_Yes  \\\n",
              "0             0.0          1.0             0.0               0.0   \n",
              "1             1.0          0.0             0.0               1.0   \n",
              "2             1.0          0.0             0.0               1.0   \n",
              "3             1.0          0.0             0.0               0.0   \n",
              "4             0.0          0.0             0.0               1.0   \n",
              "...           ...          ...             ...               ...   \n",
              "7038          1.0          1.0             1.0               1.0   \n",
              "7039          0.0          1.0             1.0               1.0   \n",
              "7040          0.0          1.0             1.0               0.0   \n",
              "7041          1.0          1.0             0.0               1.0   \n",
              "7042          1.0          0.0             0.0               1.0   \n",
              "\n",
              "      MultipleLines_No phone service  MultipleLines_Yes  \\\n",
              "0                                1.0                0.0   \n",
              "1                                0.0                0.0   \n",
              "2                                0.0                0.0   \n",
              "3                                1.0                0.0   \n",
              "4                                0.0                0.0   \n",
              "...                              ...                ...   \n",
              "7038                             0.0                1.0   \n",
              "7039                             0.0                1.0   \n",
              "7040                             1.0                0.0   \n",
              "7041                             0.0                1.0   \n",
              "7042                             0.0                0.0   \n",
              "\n",
              "      InternetService_Fiber optic  InternetService_No  \\\n",
              "0                             0.0                 0.0   \n",
              "1                             0.0                 0.0   \n",
              "2                             0.0                 0.0   \n",
              "3                             0.0                 0.0   \n",
              "4                             1.0                 0.0   \n",
              "...                           ...                 ...   \n",
              "7038                          0.0                 0.0   \n",
              "7039                          1.0                 0.0   \n",
              "7040                          0.0                 0.0   \n",
              "7041                          1.0                 0.0   \n",
              "7042                          1.0                 0.0   \n",
              "\n",
              "      OnlineSecurity_No internet service  OnlineSecurity_Yes  ...  \\\n",
              "0                                    0.0                 0.0  ...   \n",
              "1                                    0.0                 1.0  ...   \n",
              "2                                    0.0                 1.0  ...   \n",
              "3                                    0.0                 1.0  ...   \n",
              "4                                    0.0                 0.0  ...   \n",
              "...                                  ...                 ...  ...   \n",
              "7038                                 0.0                 1.0  ...   \n",
              "7039                                 0.0                 0.0  ...   \n",
              "7040                                 0.0                 1.0  ...   \n",
              "7041                                 0.0                 0.0  ...   \n",
              "7042                                 0.0                 1.0  ...   \n",
              "\n",
              "      PaymentMethod_Credit card (automatic)  PaymentMethod_Electronic check  \\\n",
              "0                                       0.0                             1.0   \n",
              "1                                       0.0                             0.0   \n",
              "2                                       0.0                             0.0   \n",
              "3                                       0.0                             0.0   \n",
              "4                                       0.0                             1.0   \n",
              "...                                     ...                             ...   \n",
              "7038                                    0.0                             0.0   \n",
              "7039                                    1.0                             0.0   \n",
              "7040                                    0.0                             1.0   \n",
              "7041                                    0.0                             0.0   \n",
              "7042                                    0.0                             0.0   \n",
              "\n",
              "      PaymentMethod_Mailed check  Churn_Yes  FamilyComposition_Family  \\\n",
              "0                            0.0        0.0                       0.0   \n",
              "1                            1.0        0.0                       0.0   \n",
              "2                            1.0        1.0                       0.0   \n",
              "3                            0.0        0.0                       0.0   \n",
              "4                            0.0        1.0                       0.0   \n",
              "...                          ...        ...                       ...   \n",
              "7038                         1.0        0.0                       1.0   \n",
              "7039                         0.0        0.0                       1.0   \n",
              "7040                         0.0        0.0                       1.0   \n",
              "7041                         1.0        1.0                       0.0   \n",
              "7042                         0.0        0.0                       0.0   \n",
              "\n",
              "      FamilyComposition_Single  SeniorCitizen  tenure  MonthlyCharges  \\\n",
              "0                          0.0            0.0     1.0           29.85   \n",
              "1                          1.0            0.0    34.0           56.95   \n",
              "2                          1.0            0.0     2.0           53.85   \n",
              "3                          1.0            0.0    45.0           42.30   \n",
              "4                          1.0            0.0     2.0           70.70   \n",
              "...                        ...            ...     ...             ...   \n",
              "7038                       0.0            0.0    24.0           84.80   \n",
              "7039                       0.0            0.0    72.0          103.20   \n",
              "7040                       0.0            0.0    11.0           29.60   \n",
              "7041                       0.0            1.0     4.0           74.40   \n",
              "7042                       1.0            0.0    66.0          105.65   \n",
              "\n",
              "      tenureclass  \n",
              "0             1.0  \n",
              "1             6.0  \n",
              "2             1.0  \n",
              "3             7.0  \n",
              "4             1.0  \n",
              "...           ...  \n",
              "7038          4.0  \n",
              "7039         11.0  \n",
              "7040          2.0  \n",
              "7041          1.0  \n",
              "7042         10.0  \n",
              "\n",
              "[7043 rows x 33 columns]"
            ],
            "text/html": [
              "\n",
              "  <div id=\"df-08529b22-c5de-42f2-ae2e-a33c16dbb575\">\n",
              "    <div class=\"colab-df-container\">\n",
              "      <div>\n",
              "<style scoped>\n",
              "    .dataframe tbody tr th:only-of-type {\n",
              "        vertical-align: middle;\n",
              "    }\n",
              "\n",
              "    .dataframe tbody tr th {\n",
              "        vertical-align: top;\n",
              "    }\n",
              "\n",
              "    .dataframe thead th {\n",
              "        text-align: right;\n",
              "    }\n",
              "</style>\n",
              "<table border=\"1\" class=\"dataframe\">\n",
              "  <thead>\n",
              "    <tr style=\"text-align: right;\">\n",
              "      <th></th>\n",
              "      <th>gender_Male</th>\n",
              "      <th>Partner_Yes</th>\n",
              "      <th>Dependents_Yes</th>\n",
              "      <th>PhoneService_Yes</th>\n",
              "      <th>MultipleLines_No phone service</th>\n",
              "      <th>MultipleLines_Yes</th>\n",
              "      <th>InternetService_Fiber optic</th>\n",
              "      <th>InternetService_No</th>\n",
              "      <th>OnlineSecurity_No internet service</th>\n",
              "      <th>OnlineSecurity_Yes</th>\n",
              "      <th>...</th>\n",
              "      <th>PaymentMethod_Credit card (automatic)</th>\n",
              "      <th>PaymentMethod_Electronic check</th>\n",
              "      <th>PaymentMethod_Mailed check</th>\n",
              "      <th>Churn_Yes</th>\n",
              "      <th>FamilyComposition_Family</th>\n",
              "      <th>FamilyComposition_Single</th>\n",
              "      <th>SeniorCitizen</th>\n",
              "      <th>tenure</th>\n",
              "      <th>MonthlyCharges</th>\n",
              "      <th>tenureclass</th>\n",
              "    </tr>\n",
              "  </thead>\n",
              "  <tbody>\n",
              "    <tr>\n",
              "      <th>0</th>\n",
              "      <td>0.0</td>\n",
              "      <td>1.0</td>\n",
              "      <td>0.0</td>\n",
              "      <td>0.0</td>\n",
              "      <td>1.0</td>\n",
              "      <td>0.0</td>\n",
              "      <td>0.0</td>\n",
              "      <td>0.0</td>\n",
              "      <td>0.0</td>\n",
              "      <td>0.0</td>\n",
              "      <td>...</td>\n",
              "      <td>0.0</td>\n",
              "      <td>1.0</td>\n",
              "      <td>0.0</td>\n",
              "      <td>0.0</td>\n",
              "      <td>0.0</td>\n",
              "      <td>0.0</td>\n",
              "      <td>0.0</td>\n",
              "      <td>1.0</td>\n",
              "      <td>29.85</td>\n",
              "      <td>1.0</td>\n",
              "    </tr>\n",
              "    <tr>\n",
              "      <th>1</th>\n",
              "      <td>1.0</td>\n",
              "      <td>0.0</td>\n",
              "      <td>0.0</td>\n",
              "      <td>1.0</td>\n",
              "      <td>0.0</td>\n",
              "      <td>0.0</td>\n",
              "      <td>0.0</td>\n",
              "      <td>0.0</td>\n",
              "      <td>0.0</td>\n",
              "      <td>1.0</td>\n",
              "      <td>...</td>\n",
              "      <td>0.0</td>\n",
              "      <td>0.0</td>\n",
              "      <td>1.0</td>\n",
              "      <td>0.0</td>\n",
              "      <td>0.0</td>\n",
              "      <td>1.0</td>\n",
              "      <td>0.0</td>\n",
              "      <td>34.0</td>\n",
              "      <td>56.95</td>\n",
              "      <td>6.0</td>\n",
              "    </tr>\n",
              "    <tr>\n",
              "      <th>2</th>\n",
              "      <td>1.0</td>\n",
              "      <td>0.0</td>\n",
              "      <td>0.0</td>\n",
              "      <td>1.0</td>\n",
              "      <td>0.0</td>\n",
              "      <td>0.0</td>\n",
              "      <td>0.0</td>\n",
              "      <td>0.0</td>\n",
              "      <td>0.0</td>\n",
              "      <td>1.0</td>\n",
              "      <td>...</td>\n",
              "      <td>0.0</td>\n",
              "      <td>0.0</td>\n",
              "      <td>1.0</td>\n",
              "      <td>1.0</td>\n",
              "      <td>0.0</td>\n",
              "      <td>1.0</td>\n",
              "      <td>0.0</td>\n",
              "      <td>2.0</td>\n",
              "      <td>53.85</td>\n",
              "      <td>1.0</td>\n",
              "    </tr>\n",
              "    <tr>\n",
              "      <th>3</th>\n",
              "      <td>1.0</td>\n",
              "      <td>0.0</td>\n",
              "      <td>0.0</td>\n",
              "      <td>0.0</td>\n",
              "      <td>1.0</td>\n",
              "      <td>0.0</td>\n",
              "      <td>0.0</td>\n",
              "      <td>0.0</td>\n",
              "      <td>0.0</td>\n",
              "      <td>1.0</td>\n",
              "      <td>...</td>\n",
              "      <td>0.0</td>\n",
              "      <td>0.0</td>\n",
              "      <td>0.0</td>\n",
              "      <td>0.0</td>\n",
              "      <td>0.0</td>\n",
              "      <td>1.0</td>\n",
              "      <td>0.0</td>\n",
              "      <td>45.0</td>\n",
              "      <td>42.30</td>\n",
              "      <td>7.0</td>\n",
              "    </tr>\n",
              "    <tr>\n",
              "      <th>4</th>\n",
              "      <td>0.0</td>\n",
              "      <td>0.0</td>\n",
              "      <td>0.0</td>\n",
              "      <td>1.0</td>\n",
              "      <td>0.0</td>\n",
              "      <td>0.0</td>\n",
              "      <td>1.0</td>\n",
              "      <td>0.0</td>\n",
              "      <td>0.0</td>\n",
              "      <td>0.0</td>\n",
              "      <td>...</td>\n",
              "      <td>0.0</td>\n",
              "      <td>1.0</td>\n",
              "      <td>0.0</td>\n",
              "      <td>1.0</td>\n",
              "      <td>0.0</td>\n",
              "      <td>1.0</td>\n",
              "      <td>0.0</td>\n",
              "      <td>2.0</td>\n",
              "      <td>70.70</td>\n",
              "      <td>1.0</td>\n",
              "    </tr>\n",
              "    <tr>\n",
              "      <th>...</th>\n",
              "      <td>...</td>\n",
              "      <td>...</td>\n",
              "      <td>...</td>\n",
              "      <td>...</td>\n",
              "      <td>...</td>\n",
              "      <td>...</td>\n",
              "      <td>...</td>\n",
              "      <td>...</td>\n",
              "      <td>...</td>\n",
              "      <td>...</td>\n",
              "      <td>...</td>\n",
              "      <td>...</td>\n",
              "      <td>...</td>\n",
              "      <td>...</td>\n",
              "      <td>...</td>\n",
              "      <td>...</td>\n",
              "      <td>...</td>\n",
              "      <td>...</td>\n",
              "      <td>...</td>\n",
              "      <td>...</td>\n",
              "      <td>...</td>\n",
              "    </tr>\n",
              "    <tr>\n",
              "      <th>7038</th>\n",
              "      <td>1.0</td>\n",
              "      <td>1.0</td>\n",
              "      <td>1.0</td>\n",
              "      <td>1.0</td>\n",
              "      <td>0.0</td>\n",
              "      <td>1.0</td>\n",
              "      <td>0.0</td>\n",
              "      <td>0.0</td>\n",
              "      <td>0.0</td>\n",
              "      <td>1.0</td>\n",
              "      <td>...</td>\n",
              "      <td>0.0</td>\n",
              "      <td>0.0</td>\n",
              "      <td>1.0</td>\n",
              "      <td>0.0</td>\n",
              "      <td>1.0</td>\n",
              "      <td>0.0</td>\n",
              "      <td>0.0</td>\n",
              "      <td>24.0</td>\n",
              "      <td>84.80</td>\n",
              "      <td>4.0</td>\n",
              "    </tr>\n",
              "    <tr>\n",
              "      <th>7039</th>\n",
              "      <td>0.0</td>\n",
              "      <td>1.0</td>\n",
              "      <td>1.0</td>\n",
              "      <td>1.0</td>\n",
              "      <td>0.0</td>\n",
              "      <td>1.0</td>\n",
              "      <td>1.0</td>\n",
              "      <td>0.0</td>\n",
              "      <td>0.0</td>\n",
              "      <td>0.0</td>\n",
              "      <td>...</td>\n",
              "      <td>1.0</td>\n",
              "      <td>0.0</td>\n",
              "      <td>0.0</td>\n",
              "      <td>0.0</td>\n",
              "      <td>1.0</td>\n",
              "      <td>0.0</td>\n",
              "      <td>0.0</td>\n",
              "      <td>72.0</td>\n",
              "      <td>103.20</td>\n",
              "      <td>11.0</td>\n",
              "    </tr>\n",
              "    <tr>\n",
              "      <th>7040</th>\n",
              "      <td>0.0</td>\n",
              "      <td>1.0</td>\n",
              "      <td>1.0</td>\n",
              "      <td>0.0</td>\n",
              "      <td>1.0</td>\n",
              "      <td>0.0</td>\n",
              "      <td>0.0</td>\n",
              "      <td>0.0</td>\n",
              "      <td>0.0</td>\n",
              "      <td>1.0</td>\n",
              "      <td>...</td>\n",
              "      <td>0.0</td>\n",
              "      <td>1.0</td>\n",
              "      <td>0.0</td>\n",
              "      <td>0.0</td>\n",
              "      <td>1.0</td>\n",
              "      <td>0.0</td>\n",
              "      <td>0.0</td>\n",
              "      <td>11.0</td>\n",
              "      <td>29.60</td>\n",
              "      <td>2.0</td>\n",
              "    </tr>\n",
              "    <tr>\n",
              "      <th>7041</th>\n",
              "      <td>1.0</td>\n",
              "      <td>1.0</td>\n",
              "      <td>0.0</td>\n",
              "      <td>1.0</td>\n",
              "      <td>0.0</td>\n",
              "      <td>1.0</td>\n",
              "      <td>1.0</td>\n",
              "      <td>0.0</td>\n",
              "      <td>0.0</td>\n",
              "      <td>0.0</td>\n",
              "      <td>...</td>\n",
              "      <td>0.0</td>\n",
              "      <td>0.0</td>\n",
              "      <td>1.0</td>\n",
              "      <td>1.0</td>\n",
              "      <td>0.0</td>\n",
              "      <td>0.0</td>\n",
              "      <td>1.0</td>\n",
              "      <td>4.0</td>\n",
              "      <td>74.40</td>\n",
              "      <td>1.0</td>\n",
              "    </tr>\n",
              "    <tr>\n",
              "      <th>7042</th>\n",
              "      <td>1.0</td>\n",
              "      <td>0.0</td>\n",
              "      <td>0.0</td>\n",
              "      <td>1.0</td>\n",
              "      <td>0.0</td>\n",
              "      <td>0.0</td>\n",
              "      <td>1.0</td>\n",
              "      <td>0.0</td>\n",
              "      <td>0.0</td>\n",
              "      <td>1.0</td>\n",
              "      <td>...</td>\n",
              "      <td>0.0</td>\n",
              "      <td>0.0</td>\n",
              "      <td>0.0</td>\n",
              "      <td>0.0</td>\n",
              "      <td>0.0</td>\n",
              "      <td>1.0</td>\n",
              "      <td>0.0</td>\n",
              "      <td>66.0</td>\n",
              "      <td>105.65</td>\n",
              "      <td>10.0</td>\n",
              "    </tr>\n",
              "  </tbody>\n",
              "</table>\n",
              "<p>7043 rows × 33 columns</p>\n",
              "</div>\n",
              "      <button class=\"colab-df-convert\" onclick=\"convertToInteractive('df-08529b22-c5de-42f2-ae2e-a33c16dbb575')\"\n",
              "              title=\"Convert this dataframe to an interactive table.\"\n",
              "              style=\"display:none;\">\n",
              "        \n",
              "  <svg xmlns=\"http://www.w3.org/2000/svg\" height=\"24px\"viewBox=\"0 0 24 24\"\n",
              "       width=\"24px\">\n",
              "    <path d=\"M0 0h24v24H0V0z\" fill=\"none\"/>\n",
              "    <path d=\"M18.56 5.44l.94 2.06.94-2.06 2.06-.94-2.06-.94-.94-2.06-.94 2.06-2.06.94zm-11 1L8.5 8.5l.94-2.06 2.06-.94-2.06-.94L8.5 2.5l-.94 2.06-2.06.94zm10 10l.94 2.06.94-2.06 2.06-.94-2.06-.94-.94-2.06-.94 2.06-2.06.94z\"/><path d=\"M17.41 7.96l-1.37-1.37c-.4-.4-.92-.59-1.43-.59-.52 0-1.04.2-1.43.59L10.3 9.45l-7.72 7.72c-.78.78-.78 2.05 0 2.83L4 21.41c.39.39.9.59 1.41.59.51 0 1.02-.2 1.41-.59l7.78-7.78 2.81-2.81c.8-.78.8-2.07 0-2.86zM5.41 20L4 18.59l7.72-7.72 1.47 1.35L5.41 20z\"/>\n",
              "  </svg>\n",
              "      </button>\n",
              "      \n",
              "  <style>\n",
              "    .colab-df-container {\n",
              "      display:flex;\n",
              "      flex-wrap:wrap;\n",
              "      gap: 12px;\n",
              "    }\n",
              "\n",
              "    .colab-df-convert {\n",
              "      background-color: #E8F0FE;\n",
              "      border: none;\n",
              "      border-radius: 50%;\n",
              "      cursor: pointer;\n",
              "      display: none;\n",
              "      fill: #1967D2;\n",
              "      height: 32px;\n",
              "      padding: 0 0 0 0;\n",
              "      width: 32px;\n",
              "    }\n",
              "\n",
              "    .colab-df-convert:hover {\n",
              "      background-color: #E2EBFA;\n",
              "      box-shadow: 0px 1px 2px rgba(60, 64, 67, 0.3), 0px 1px 3px 1px rgba(60, 64, 67, 0.15);\n",
              "      fill: #174EA6;\n",
              "    }\n",
              "\n",
              "    [theme=dark] .colab-df-convert {\n",
              "      background-color: #3B4455;\n",
              "      fill: #D2E3FC;\n",
              "    }\n",
              "\n",
              "    [theme=dark] .colab-df-convert:hover {\n",
              "      background-color: #434B5C;\n",
              "      box-shadow: 0px 1px 3px 1px rgba(0, 0, 0, 0.15);\n",
              "      filter: drop-shadow(0px 1px 2px rgba(0, 0, 0, 0.3));\n",
              "      fill: #FFFFFF;\n",
              "    }\n",
              "  </style>\n",
              "\n",
              "      <script>\n",
              "        const buttonEl =\n",
              "          document.querySelector('#df-08529b22-c5de-42f2-ae2e-a33c16dbb575 button.colab-df-convert');\n",
              "        buttonEl.style.display =\n",
              "          google.colab.kernel.accessAllowed ? 'block' : 'none';\n",
              "\n",
              "        async function convertToInteractive(key) {\n",
              "          const element = document.querySelector('#df-08529b22-c5de-42f2-ae2e-a33c16dbb575');\n",
              "          const dataTable =\n",
              "            await google.colab.kernel.invokeFunction('convertToInteractive',\n",
              "                                                     [key], {});\n",
              "          if (!dataTable) return;\n",
              "\n",
              "          const docLinkHtml = 'Like what you see? Visit the ' +\n",
              "            '<a target=\"_blank\" href=https://colab.research.google.com/notebooks/data_table.ipynb>data table notebook</a>'\n",
              "            + ' to learn more about interactive tables.';\n",
              "          element.innerHTML = '';\n",
              "          dataTable['output_type'] = 'display_data';\n",
              "          await google.colab.output.renderOutput(dataTable, element);\n",
              "          const docLink = document.createElement('div');\n",
              "          docLink.innerHTML = docLinkHtml;\n",
              "          element.appendChild(docLink);\n",
              "        }\n",
              "      </script>\n",
              "    </div>\n",
              "  </div>\n",
              "  "
            ]
          },
          "metadata": {},
          "execution_count": 39
        }
      ],
      "source": [
        "ohe = OneHotEncoder(drop='first')\n",
        "\n",
        "transformer = make_column_transformer((ohe, categorical), remainder='passthrough',\n",
        "                                      verbose_feature_names_out=False)\n",
        "encode = transformer.fit_transform(cd)\n",
        "cd = pd.DataFrame(encode, columns=transformer.get_feature_names_out())\n",
        "cd"
      ]
    },
    {
      "cell_type": "code",
      "execution_count": 40,
      "id": "be3ae1ed",
      "metadata": {
        "execution": {
          "iopub.execute_input": "2022-11-24T17:52:24.623938Z",
          "iopub.status.busy": "2022-11-24T17:52:24.623535Z",
          "iopub.status.idle": "2022-11-24T17:52:24.630457Z",
          "shell.execute_reply": "2022-11-24T17:52:24.629374Z"
        },
        "papermill": {
          "duration": 0.028105,
          "end_time": "2022-11-24T17:52:24.632630",
          "exception": false,
          "start_time": "2022-11-24T17:52:24.604525",
          "status": "completed"
        },
        "tags": [],
        "id": "be3ae1ed"
      },
      "outputs": [],
      "source": [
        "cd=cd.drop(['SeniorCitizen','MultipleLines_No phone service','OnlineSecurity_No internet service','OnlineSecurity_No internet service'],axis=1)  "
      ]
    },
    {
      "cell_type": "markdown",
      "id": "e58f3df9",
      "metadata": {
        "papermill": {
          "duration": 0.017335,
          "end_time": "2022-11-24T17:52:24.667613",
          "exception": false,
          "start_time": "2022-11-24T17:52:24.650278",
          "status": "completed"
        },
        "tags": [],
        "id": "e58f3df9"
      },
      "source": [
        "## Scaling"
      ]
    },
    {
      "cell_type": "code",
      "execution_count": 41,
      "id": "2e4c3929",
      "metadata": {
        "execution": {
          "iopub.execute_input": "2022-11-24T17:52:24.705345Z",
          "iopub.status.busy": "2022-11-24T17:52:24.704901Z",
          "iopub.status.idle": "2022-11-24T17:52:24.716688Z",
          "shell.execute_reply": "2022-11-24T17:52:24.715465Z"
        },
        "papermill": {
          "duration": 0.033763,
          "end_time": "2022-11-24T17:52:24.719038",
          "exception": false,
          "start_time": "2022-11-24T17:52:24.685275",
          "status": "completed"
        },
        "tags": [],
        "id": "2e4c3929"
      },
      "outputs": [],
      "source": [
        "y=cd['Churn_Yes']\n",
        "\n",
        "cd=cd.drop('Churn_Yes',axis=1)\n",
        "\n",
        "numerical=list(cd.select_dtypes(include=['number']).columns)\n",
        "categorical=list(cd.select_dtypes(include=['object']).columns)"
      ]
    },
    {
      "cell_type": "markdown",
      "source": [
        "# Standardization\n",
        "Afer few experiments using the raw numerical features, normalization and standardization and found that the former yelds slightly better results. Altough we are not using gradient based optimization, the features have very distinct ranges and that can be detrimental to the model. I also think that the values are distributed over a long interval as we can see in the plots above, so restricting them to [0, 1] range with normalization is not the best approach."
      ],
      "metadata": {
        "id": "FhCbB_uX8Il4"
      },
      "id": "FhCbB_uX8Il4"
    },
    {
      "cell_type": "code",
      "execution_count": 42,
      "id": "fb70f251",
      "metadata": {
        "execution": {
          "iopub.execute_input": "2022-11-24T17:52:24.755754Z",
          "iopub.status.busy": "2022-11-24T17:52:24.755381Z",
          "iopub.status.idle": "2022-11-24T17:52:24.774313Z",
          "shell.execute_reply": "2022-11-24T17:52:24.773417Z"
        },
        "papermill": {
          "duration": 0.040351,
          "end_time": "2022-11-24T17:52:24.776845",
          "exception": false,
          "start_time": "2022-11-24T17:52:24.736494",
          "status": "completed"
        },
        "tags": [],
        "id": "fb70f251"
      },
      "outputs": [],
      "source": [
        "train_cd=cd\n",
        "\n",
        "scaler = StandardScaler()\n",
        "cd[numerical]=scaler.fit_transform(cd[numerical])\n",
        "\n",
        "train_cd=cd"
      ]
    },
    {
      "cell_type": "markdown",
      "id": "83c2dd7c",
      "metadata": {
        "papermill": {
          "duration": 0.017021,
          "end_time": "2022-11-24T17:52:24.811500",
          "exception": false,
          "start_time": "2022-11-24T17:52:24.794479",
          "status": "completed"
        },
        "tags": [],
        "id": "83c2dd7c"
      },
      "source": [
        "##  Train and Test Split\n",
        "In order to test the efficiency of our classifier we need to split the data in a train and test set, so we can evaluate our model in data that it has never seen before."
      ]
    },
    {
      "cell_type": "code",
      "execution_count": 55,
      "id": "881fb47e",
      "metadata": {
        "execution": {
          "iopub.execute_input": "2022-11-24T17:52:24.848628Z",
          "iopub.status.busy": "2022-11-24T17:52:24.848242Z",
          "iopub.status.idle": "2022-11-24T17:52:24.859385Z",
          "shell.execute_reply": "2022-11-24T17:52:24.858456Z"
        },
        "papermill": {
          "duration": 0.032636,
          "end_time": "2022-11-24T17:52:24.861622",
          "exception": false,
          "start_time": "2022-11-24T17:52:24.828986",
          "status": "completed"
        },
        "tags": [],
        "id": "881fb47e"
      },
      "outputs": [],
      "source": [
        "x_train, x_test, y_train, y_test = train_test_split(\n",
        "train_cd, y, test_size=0.30, random_state=4, stratify=y)\n",
        "\n",
        "trainscore=[]\n",
        "\n",
        "testscore=[]\n",
        "\n",
        "churnrecall=[]\n",
        "\n",
        "churnprecision=[]\n"
      ]
    },
    {
      "cell_type": "markdown",
      "id": "912ffa1d",
      "metadata": {
        "papermill": {
          "duration": 0.017333,
          "end_time": "2022-11-24T17:52:24.896981",
          "exception": false,
          "start_time": "2022-11-24T17:52:24.879648",
          "status": "completed"
        },
        "tags": [],
        "id": "912ffa1d"
      },
      "source": [
        "## Class imbalance\n",
        "To deal with class imbalance we are going to use **SMOTE** (Synthetic Minority Oversampling Technique ) which is a statistical technique for increasing the number of cases in your dataset in a balanced way."
      ]
    },
    {
      "cell_type": "code",
      "execution_count": 56,
      "id": "d32a205c",
      "metadata": {
        "execution": {
          "iopub.execute_input": "2022-11-24T17:52:24.933728Z",
          "iopub.status.busy": "2022-11-24T17:52:24.933354Z",
          "iopub.status.idle": "2022-11-24T17:52:25.042049Z",
          "shell.execute_reply": "2022-11-24T17:52:25.040398Z"
        },
        "papermill": {
          "duration": 0.132086,
          "end_time": "2022-11-24T17:52:25.046586",
          "exception": false,
          "start_time": "2022-11-24T17:52:24.914500",
          "status": "completed"
        },
        "tags": [],
        "id": "d32a205c"
      },
      "outputs": [],
      "source": [
        "oversample=SMOTE()\n",
        "x_train,y_train=oversample.fit_resample(x_train,y_train)"
      ]
    },
    {
      "cell_type": "markdown",
      "id": "9a92cf1d",
      "metadata": {
        "papermill": {
          "duration": 0.017345,
          "end_time": "2022-11-24T17:52:25.096791",
          "exception": false,
          "start_time": "2022-11-24T17:52:25.079446",
          "status": "completed"
        },
        "tags": [],
        "id": "9a92cf1d"
      },
      "source": [
        "# 6. Model Building \n",
        "We are going to build  some supervised models such as:\n",
        "1. *Logistic Regresion *\n",
        " \n",
        " Logistic regression is a statistical method that is used for building machine learning models where the dependent variable is dichotomous: i.e. binary. Logistic regression is used to describe data and the relationship between one dependent variable and one or more independent variables.\n",
        "\n",
        "---\n",
        "2. *Random Forest*\n",
        " \n",
        " Random Forest Regression is a supervised learning algorithm that uses ensemble learning method for regression. Ensemble learning method is a technique that combines predictions from multiple machine learning algorithms to make a more accurate prediction than a single mode\n",
        "\n",
        "---\n",
        "3. *XGBoost Model*\n",
        "\n",
        "XGBoost (**eXtreme Gradient Boosting**) is a popular supervised-learning algorithm used for regression and classification on large datasets. It uses sequentially-built shallow decision trees to provide accurate results and a highly-scalable training method that avoids overfitting.\n"
      ]
    },
    {
      "cell_type": "code",
      "execution_count": 57,
      "id": "f7932c01",
      "metadata": {
        "execution": {
          "iopub.execute_input": "2022-11-24T17:52:25.133843Z",
          "iopub.status.busy": "2022-11-24T17:52:25.133458Z",
          "iopub.status.idle": "2022-11-24T17:52:25.140665Z",
          "shell.execute_reply": "2022-11-24T17:52:25.139873Z"
        },
        "papermill": {
          "duration": 0.027851,
          "end_time": "2022-11-24T17:52:25.142588",
          "exception": false,
          "start_time": "2022-11-24T17:52:25.114737",
          "status": "completed"
        },
        "tags": [],
        "id": "f7932c01"
      },
      "outputs": [],
      "source": [
        "model_params = {\n",
        "    'logistic_regression' : {\n",
        "        'model': LogisticRegression(solver='liblinear',multi_class='auto'),\n",
        "        'params': {\n",
        "            'C': [1,5,10,100]\n",
        "        }\n",
        "    },\n",
        "    'random_forest': {\n",
        "        'model': RandomForestClassifier(),\n",
        "        'params' : {\n",
        "            'n_estimators': [1,5,10,100],\n",
        "                'max_features': ['sqrt', 'log2']\n",
        "        }\n",
        "    },\n",
        "    'xgb': {\n",
        "        'model': xgb.XGBClassifier(objective= 'binary:logistic',nthread=4,seed=42),\n",
        "        'params' : {\n",
        "            'n_estimators': [1,5,10,100],\n",
        "                'max_depth':[1,5,10],\n",
        "                'learning_rate':[0.01,0.05,0.1,0.5]\n",
        "        }\n",
        "    }\n",
        "}"
      ]
    },
    {
      "cell_type": "code",
      "execution_count": 58,
      "id": "26038a29",
      "metadata": {
        "execution": {
          "iopub.execute_input": "2022-11-24T17:52:25.179214Z",
          "iopub.status.busy": "2022-11-24T17:52:25.178774Z",
          "iopub.status.idle": "2022-11-24T17:55:01.895439Z",
          "shell.execute_reply": "2022-11-24T17:55:01.894241Z"
        },
        "papermill": {
          "duration": 156.755041,
          "end_time": "2022-11-24T17:55:01.915131",
          "exception": false,
          "start_time": "2022-11-24T17:52:25.160090",
          "status": "completed"
        },
        "tags": [],
        "colab": {
          "base_uri": "https://localhost:8080/",
          "height": 198
        },
        "id": "26038a29",
        "outputId": "03558dd3-f451-48f8-ac15-379a38176470"
      },
      "outputs": [
        {
          "output_type": "stream",
          "name": "stdout",
          "text": [
            "{'C': 1}\n",
            "{'max_features': 'sqrt', 'n_estimators': 100}\n",
            "{'learning_rate': 0.1, 'max_depth': 5, 'n_estimators': 100}\n"
          ]
        },
        {
          "output_type": "execute_result",
          "data": {
            "text/plain": [
              "                 model  train_score  \\\n",
              "0  logistic_regression     0.773750   \n",
              "1        random_forest     0.855789   \n",
              "2                  xgb     0.854410   \n",
              "\n",
              "                                         best_params  \n",
              "0                                           {'C': 1}  \n",
              "1      {'max_features': 'sqrt', 'n_estimators': 100}  \n",
              "2  {'learning_rate': 0.1, 'max_depth': 5, 'n_esti...  "
            ],
            "text/html": [
              "\n",
              "  <div id=\"df-0601121c-d199-4239-b90a-fffbca249d4a\">\n",
              "    <div class=\"colab-df-container\">\n",
              "      <div>\n",
              "<style scoped>\n",
              "    .dataframe tbody tr th:only-of-type {\n",
              "        vertical-align: middle;\n",
              "    }\n",
              "\n",
              "    .dataframe tbody tr th {\n",
              "        vertical-align: top;\n",
              "    }\n",
              "\n",
              "    .dataframe thead th {\n",
              "        text-align: right;\n",
              "    }\n",
              "</style>\n",
              "<table border=\"1\" class=\"dataframe\">\n",
              "  <thead>\n",
              "    <tr style=\"text-align: right;\">\n",
              "      <th></th>\n",
              "      <th>model</th>\n",
              "      <th>train_score</th>\n",
              "      <th>best_params</th>\n",
              "    </tr>\n",
              "  </thead>\n",
              "  <tbody>\n",
              "    <tr>\n",
              "      <th>0</th>\n",
              "      <td>logistic_regression</td>\n",
              "      <td>0.773750</td>\n",
              "      <td>{'C': 1}</td>\n",
              "    </tr>\n",
              "    <tr>\n",
              "      <th>1</th>\n",
              "      <td>random_forest</td>\n",
              "      <td>0.855789</td>\n",
              "      <td>{'max_features': 'sqrt', 'n_estimators': 100}</td>\n",
              "    </tr>\n",
              "    <tr>\n",
              "      <th>2</th>\n",
              "      <td>xgb</td>\n",
              "      <td>0.854410</td>\n",
              "      <td>{'learning_rate': 0.1, 'max_depth': 5, 'n_esti...</td>\n",
              "    </tr>\n",
              "  </tbody>\n",
              "</table>\n",
              "</div>\n",
              "      <button class=\"colab-df-convert\" onclick=\"convertToInteractive('df-0601121c-d199-4239-b90a-fffbca249d4a')\"\n",
              "              title=\"Convert this dataframe to an interactive table.\"\n",
              "              style=\"display:none;\">\n",
              "        \n",
              "  <svg xmlns=\"http://www.w3.org/2000/svg\" height=\"24px\"viewBox=\"0 0 24 24\"\n",
              "       width=\"24px\">\n",
              "    <path d=\"M0 0h24v24H0V0z\" fill=\"none\"/>\n",
              "    <path d=\"M18.56 5.44l.94 2.06.94-2.06 2.06-.94-2.06-.94-.94-2.06-.94 2.06-2.06.94zm-11 1L8.5 8.5l.94-2.06 2.06-.94-2.06-.94L8.5 2.5l-.94 2.06-2.06.94zm10 10l.94 2.06.94-2.06 2.06-.94-2.06-.94-.94-2.06-.94 2.06-2.06.94z\"/><path d=\"M17.41 7.96l-1.37-1.37c-.4-.4-.92-.59-1.43-.59-.52 0-1.04.2-1.43.59L10.3 9.45l-7.72 7.72c-.78.78-.78 2.05 0 2.83L4 21.41c.39.39.9.59 1.41.59.51 0 1.02-.2 1.41-.59l7.78-7.78 2.81-2.81c.8-.78.8-2.07 0-2.86zM5.41 20L4 18.59l7.72-7.72 1.47 1.35L5.41 20z\"/>\n",
              "  </svg>\n",
              "      </button>\n",
              "      \n",
              "  <style>\n",
              "    .colab-df-container {\n",
              "      display:flex;\n",
              "      flex-wrap:wrap;\n",
              "      gap: 12px;\n",
              "    }\n",
              "\n",
              "    .colab-df-convert {\n",
              "      background-color: #E8F0FE;\n",
              "      border: none;\n",
              "      border-radius: 50%;\n",
              "      cursor: pointer;\n",
              "      display: none;\n",
              "      fill: #1967D2;\n",
              "      height: 32px;\n",
              "      padding: 0 0 0 0;\n",
              "      width: 32px;\n",
              "    }\n",
              "\n",
              "    .colab-df-convert:hover {\n",
              "      background-color: #E2EBFA;\n",
              "      box-shadow: 0px 1px 2px rgba(60, 64, 67, 0.3), 0px 1px 3px 1px rgba(60, 64, 67, 0.15);\n",
              "      fill: #174EA6;\n",
              "    }\n",
              "\n",
              "    [theme=dark] .colab-df-convert {\n",
              "      background-color: #3B4455;\n",
              "      fill: #D2E3FC;\n",
              "    }\n",
              "\n",
              "    [theme=dark] .colab-df-convert:hover {\n",
              "      background-color: #434B5C;\n",
              "      box-shadow: 0px 1px 3px 1px rgba(0, 0, 0, 0.15);\n",
              "      filter: drop-shadow(0px 1px 2px rgba(0, 0, 0, 0.3));\n",
              "      fill: #FFFFFF;\n",
              "    }\n",
              "  </style>\n",
              "\n",
              "      <script>\n",
              "        const buttonEl =\n",
              "          document.querySelector('#df-0601121c-d199-4239-b90a-fffbca249d4a button.colab-df-convert');\n",
              "        buttonEl.style.display =\n",
              "          google.colab.kernel.accessAllowed ? 'block' : 'none';\n",
              "\n",
              "        async function convertToInteractive(key) {\n",
              "          const element = document.querySelector('#df-0601121c-d199-4239-b90a-fffbca249d4a');\n",
              "          const dataTable =\n",
              "            await google.colab.kernel.invokeFunction('convertToInteractive',\n",
              "                                                     [key], {});\n",
              "          if (!dataTable) return;\n",
              "\n",
              "          const docLinkHtml = 'Like what you see? Visit the ' +\n",
              "            '<a target=\"_blank\" href=https://colab.research.google.com/notebooks/data_table.ipynb>data table notebook</a>'\n",
              "            + ' to learn more about interactive tables.';\n",
              "          element.innerHTML = '';\n",
              "          dataTable['output_type'] = 'display_data';\n",
              "          await google.colab.output.renderOutput(dataTable, element);\n",
              "          const docLink = document.createElement('div');\n",
              "          docLink.innerHTML = docLinkHtml;\n",
              "          element.appendChild(docLink);\n",
              "        }\n",
              "      </script>\n",
              "    </div>\n",
              "  </div>\n",
              "  "
            ]
          },
          "metadata": {},
          "execution_count": 58
        }
      ],
      "source": [
        "scores = []\n",
        "for model_name, mp in model_params.items():\n",
        "    gcv =  GridSearchCV(mp['model'], mp['params'], cv=10, return_train_score=False)\n",
        "    gcv_train= gcv.fit(x_train, y_train)\n",
        "    print(gcv_train.best_params_)\n",
        "    scores.append({\n",
        "        'model': model_name,\n",
        "        'train_score': gcv_train.best_score_,\n",
        "        'best_params': gcv_train.best_params_,\n",
        "    })\n",
        "    \n",
        "model_attributes = pd.DataFrame(scores,columns=['model','train_score','best_params'])\n",
        "model_attributes"
      ]
    },
    {
      "cell_type": "code",
      "execution_count": 49,
      "id": "e9d5b85e",
      "metadata": {
        "execution": {
          "iopub.execute_input": "2022-11-24T17:55:01.954771Z",
          "iopub.status.busy": "2022-11-24T17:55:01.954029Z",
          "iopub.status.idle": "2022-11-24T17:55:02.107469Z",
          "shell.execute_reply": "2022-11-24T17:55:02.106267Z"
        },
        "papermill": {
          "duration": 0.177378,
          "end_time": "2022-11-24T17:55:02.111215",
          "exception": false,
          "start_time": "2022-11-24T17:55:01.933837",
          "status": "completed"
        },
        "tags": [],
        "colab": {
          "base_uri": "https://localhost:8080/"
        },
        "id": "e9d5b85e",
        "outputId": "0b7e69cf-b23e-4168-cc6f-a09a825837f3"
      },
      "outputs": [
        {
          "output_type": "stream",
          "name": "stdout",
          "text": [
            "LR\n"
          ]
        }
      ],
      "source": [
        "# Logistic Regression\n",
        "test_score=[]\n",
        "lr_model = LogisticRegression(C=10).fit(x_train, y_train)\n",
        "test_score.append(lr_model.score(x_test, y_test))\n",
        "\n",
        "preds_train = lr_model.predict(x_train)\n",
        "preds_test = lr_model.predict(x_test)\n",
        "\n",
        "\n",
        "print('LR')\n",
        "lr_report=classification_report(y_test,preds_test,output_dict=True)\n",
        "lr_report=pd.DataFrame(lr_report)\n",
        "churnprecision.append(lr_report.loc['precision']['1.0'])\n",
        "churnrecall.append(lr_report.loc['recall']['1.0'])\n"
      ]
    },
    {
      "cell_type": "code",
      "execution_count": 50,
      "id": "fc053498",
      "metadata": {
        "execution": {
          "iopub.execute_input": "2022-11-24T17:55:02.204734Z",
          "iopub.status.busy": "2022-11-24T17:55:02.204349Z",
          "iopub.status.idle": "2022-11-24T17:55:03.327410Z",
          "shell.execute_reply": "2022-11-24T17:55:03.326134Z"
        },
        "papermill": {
          "duration": 1.173356,
          "end_time": "2022-11-24T17:55:03.330470",
          "exception": false,
          "start_time": "2022-11-24T17:55:02.157114",
          "status": "completed"
        },
        "tags": [],
        "colab": {
          "base_uri": "https://localhost:8080/"
        },
        "id": "fc053498",
        "outputId": "a9f7b4e6-8bdf-44db-99fa-7c05f955b224"
      },
      "outputs": [
        {
          "output_type": "stream",
          "name": "stdout",
          "text": [
            "RFC\n"
          ]
        }
      ],
      "source": [
        "# Random Forest \n",
        "rfc_model = RandomForestClassifier(max_features='log2',n_estimators=100).fit(x_train,y_train)\n",
        "test_score.append(rfc_model.score(x_test, y_test))\n",
        "\n",
        "preds_train = rfc_model.predict(x_train)\n",
        "preds_test = rfc_model.predict(x_test)\n",
        "\n",
        "\n",
        "print('RFC')\n",
        "rfc_report=classification_report(y_test,preds_test,output_dict=True)\n",
        "rfc_report=pd.DataFrame(rfc_report)\n",
        "churnprecision.append(rfc_report.loc['precision']['1.0'])\n",
        "churnrecall.append(rfc_report.loc['recall']['1.0'])\n"
      ]
    },
    {
      "cell_type": "code",
      "execution_count": 51,
      "id": "a1ecdf80",
      "metadata": {
        "execution": {
          "iopub.execute_input": "2022-11-24T17:55:03.367800Z",
          "iopub.status.busy": "2022-11-24T17:55:03.367409Z",
          "iopub.status.idle": "2022-11-24T17:55:04.377205Z",
          "shell.execute_reply": "2022-11-24T17:55:04.375722Z"
        },
        "papermill": {
          "duration": 1.03212,
          "end_time": "2022-11-24T17:55:04.380443",
          "exception": false,
          "start_time": "2022-11-24T17:55:03.348323",
          "status": "completed"
        },
        "tags": [],
        "colab": {
          "base_uri": "https://localhost:8080/"
        },
        "id": "a1ecdf80",
        "outputId": "8c7d824b-5f11-4d78-a44b-d92a8e714bd4"
      },
      "outputs": [
        {
          "output_type": "stream",
          "name": "stdout",
          "text": [
            "XGB\n"
          ]
        }
      ],
      "source": [
        "# XGBoost \n",
        "xgb_model=xgb.XGBClassifier(n_estimators = 100,max_depths=10,learning_rate=0.05,objective='binary:logistic',n_jobs=-1).fit(x_train, y_train)\n",
        "test_score.append(xgb_model.score(x_test, y_test))\n",
        "\n",
        "preds_train = xgb_model.predict(x_train)\n",
        "preds_test = xgb_model.predict(x_test)\n",
        "\n",
        "print('XGB')\n",
        "xgb_report=classification_report(y_test,preds_test,output_dict=True)\n",
        "xgb_report=pd.DataFrame(xgb_report)\n",
        "churnprecision.append(xgb_report.loc['precision']['1.0'])\n",
        "churnrecall.append(xgb_report.loc['recall']['1.0'])\n",
        "\n",
        "model_attributes['test_score']=test_score\n",
        "model_attributes['churnprecision']=churnprecision\n",
        "model_attributes['churnrecall']=churnrecall\n"
      ]
    },
    {
      "cell_type": "markdown",
      "id": "9eccd28c",
      "metadata": {
        "papermill": {
          "duration": 0.017344,
          "end_time": "2022-11-24T17:55:04.415871",
          "exception": false,
          "start_time": "2022-11-24T17:55:04.398527",
          "status": "completed"
        },
        "tags": [],
        "id": "9eccd28c"
      },
      "source": [
        "# 7. Scoring"
      ]
    },
    {
      "cell_type": "code",
      "execution_count": 52,
      "id": "96d2386e",
      "metadata": {
        "execution": {
          "iopub.execute_input": "2022-11-24T17:55:04.452976Z",
          "iopub.status.busy": "2022-11-24T17:55:04.452554Z",
          "iopub.status.idle": "2022-11-24T17:55:04.466676Z",
          "shell.execute_reply": "2022-11-24T17:55:04.465602Z"
        },
        "papermill": {
          "duration": 0.035233,
          "end_time": "2022-11-24T17:55:04.468773",
          "exception": false,
          "start_time": "2022-11-24T17:55:04.433540",
          "status": "completed"
        },
        "tags": [],
        "colab": {
          "base_uri": "https://localhost:8080/",
          "height": 143
        },
        "id": "96d2386e",
        "outputId": "e2d608f8-8df7-4262-aafa-5c4151656e7c"
      },
      "outputs": [
        {
          "output_type": "execute_result",
          "data": {
            "text/plain": [
              "                 model  train_score  \\\n",
              "0  logistic_regression     0.765603   \n",
              "1        random_forest     0.858133   \n",
              "2                  xgb     0.854684   \n",
              "\n",
              "                                         best_params  test_score  \\\n",
              "0                                           {'C': 1}    0.753904   \n",
              "1      {'max_features': 'sqrt', 'n_estimators': 100}    0.778987   \n",
              "2  {'learning_rate': 0.05, 'max_depth': 10, 'n_es...    0.775674   \n",
              "\n",
              "   churnprecision  churnrecall  \n",
              "0        0.524376     0.786096  \n",
              "1        0.589354     0.552585  \n",
              "2        0.558546     0.739750  "
            ],
            "text/html": [
              "\n",
              "  <div id=\"df-77de68c7-5b05-4212-a9b9-68384b79fc19\">\n",
              "    <div class=\"colab-df-container\">\n",
              "      <div>\n",
              "<style scoped>\n",
              "    .dataframe tbody tr th:only-of-type {\n",
              "        vertical-align: middle;\n",
              "    }\n",
              "\n",
              "    .dataframe tbody tr th {\n",
              "        vertical-align: top;\n",
              "    }\n",
              "\n",
              "    .dataframe thead th {\n",
              "        text-align: right;\n",
              "    }\n",
              "</style>\n",
              "<table border=\"1\" class=\"dataframe\">\n",
              "  <thead>\n",
              "    <tr style=\"text-align: right;\">\n",
              "      <th></th>\n",
              "      <th>model</th>\n",
              "      <th>train_score</th>\n",
              "      <th>best_params</th>\n",
              "      <th>test_score</th>\n",
              "      <th>churnprecision</th>\n",
              "      <th>churnrecall</th>\n",
              "    </tr>\n",
              "  </thead>\n",
              "  <tbody>\n",
              "    <tr>\n",
              "      <th>0</th>\n",
              "      <td>logistic_regression</td>\n",
              "      <td>0.765603</td>\n",
              "      <td>{'C': 1}</td>\n",
              "      <td>0.753904</td>\n",
              "      <td>0.524376</td>\n",
              "      <td>0.786096</td>\n",
              "    </tr>\n",
              "    <tr>\n",
              "      <th>1</th>\n",
              "      <td>random_forest</td>\n",
              "      <td>0.858133</td>\n",
              "      <td>{'max_features': 'sqrt', 'n_estimators': 100}</td>\n",
              "      <td>0.778987</td>\n",
              "      <td>0.589354</td>\n",
              "      <td>0.552585</td>\n",
              "    </tr>\n",
              "    <tr>\n",
              "      <th>2</th>\n",
              "      <td>xgb</td>\n",
              "      <td>0.854684</td>\n",
              "      <td>{'learning_rate': 0.05, 'max_depth': 10, 'n_es...</td>\n",
              "      <td>0.775674</td>\n",
              "      <td>0.558546</td>\n",
              "      <td>0.739750</td>\n",
              "    </tr>\n",
              "  </tbody>\n",
              "</table>\n",
              "</div>\n",
              "      <button class=\"colab-df-convert\" onclick=\"convertToInteractive('df-77de68c7-5b05-4212-a9b9-68384b79fc19')\"\n",
              "              title=\"Convert this dataframe to an interactive table.\"\n",
              "              style=\"display:none;\">\n",
              "        \n",
              "  <svg xmlns=\"http://www.w3.org/2000/svg\" height=\"24px\"viewBox=\"0 0 24 24\"\n",
              "       width=\"24px\">\n",
              "    <path d=\"M0 0h24v24H0V0z\" fill=\"none\"/>\n",
              "    <path d=\"M18.56 5.44l.94 2.06.94-2.06 2.06-.94-2.06-.94-.94-2.06-.94 2.06-2.06.94zm-11 1L8.5 8.5l.94-2.06 2.06-.94-2.06-.94L8.5 2.5l-.94 2.06-2.06.94zm10 10l.94 2.06.94-2.06 2.06-.94-2.06-.94-.94-2.06-.94 2.06-2.06.94z\"/><path d=\"M17.41 7.96l-1.37-1.37c-.4-.4-.92-.59-1.43-.59-.52 0-1.04.2-1.43.59L10.3 9.45l-7.72 7.72c-.78.78-.78 2.05 0 2.83L4 21.41c.39.39.9.59 1.41.59.51 0 1.02-.2 1.41-.59l7.78-7.78 2.81-2.81c.8-.78.8-2.07 0-2.86zM5.41 20L4 18.59l7.72-7.72 1.47 1.35L5.41 20z\"/>\n",
              "  </svg>\n",
              "      </button>\n",
              "      \n",
              "  <style>\n",
              "    .colab-df-container {\n",
              "      display:flex;\n",
              "      flex-wrap:wrap;\n",
              "      gap: 12px;\n",
              "    }\n",
              "\n",
              "    .colab-df-convert {\n",
              "      background-color: #E8F0FE;\n",
              "      border: none;\n",
              "      border-radius: 50%;\n",
              "      cursor: pointer;\n",
              "      display: none;\n",
              "      fill: #1967D2;\n",
              "      height: 32px;\n",
              "      padding: 0 0 0 0;\n",
              "      width: 32px;\n",
              "    }\n",
              "\n",
              "    .colab-df-convert:hover {\n",
              "      background-color: #E2EBFA;\n",
              "      box-shadow: 0px 1px 2px rgba(60, 64, 67, 0.3), 0px 1px 3px 1px rgba(60, 64, 67, 0.15);\n",
              "      fill: #174EA6;\n",
              "    }\n",
              "\n",
              "    [theme=dark] .colab-df-convert {\n",
              "      background-color: #3B4455;\n",
              "      fill: #D2E3FC;\n",
              "    }\n",
              "\n",
              "    [theme=dark] .colab-df-convert:hover {\n",
              "      background-color: #434B5C;\n",
              "      box-shadow: 0px 1px 3px 1px rgba(0, 0, 0, 0.15);\n",
              "      filter: drop-shadow(0px 1px 2px rgba(0, 0, 0, 0.3));\n",
              "      fill: #FFFFFF;\n",
              "    }\n",
              "  </style>\n",
              "\n",
              "      <script>\n",
              "        const buttonEl =\n",
              "          document.querySelector('#df-77de68c7-5b05-4212-a9b9-68384b79fc19 button.colab-df-convert');\n",
              "        buttonEl.style.display =\n",
              "          google.colab.kernel.accessAllowed ? 'block' : 'none';\n",
              "\n",
              "        async function convertToInteractive(key) {\n",
              "          const element = document.querySelector('#df-77de68c7-5b05-4212-a9b9-68384b79fc19');\n",
              "          const dataTable =\n",
              "            await google.colab.kernel.invokeFunction('convertToInteractive',\n",
              "                                                     [key], {});\n",
              "          if (!dataTable) return;\n",
              "\n",
              "          const docLinkHtml = 'Like what you see? Visit the ' +\n",
              "            '<a target=\"_blank\" href=https://colab.research.google.com/notebooks/data_table.ipynb>data table notebook</a>'\n",
              "            + ' to learn more about interactive tables.';\n",
              "          element.innerHTML = '';\n",
              "          dataTable['output_type'] = 'display_data';\n",
              "          await google.colab.output.renderOutput(dataTable, element);\n",
              "          const docLink = document.createElement('div');\n",
              "          docLink.innerHTML = docLinkHtml;\n",
              "          element.appendChild(docLink);\n",
              "        }\n",
              "      </script>\n",
              "    </div>\n",
              "  </div>\n",
              "  "
            ]
          },
          "metadata": {},
          "execution_count": 52
        }
      ],
      "source": [
        "model_attributes"
      ]
    },
    {
      "cell_type": "markdown",
      "source": [
        "## 8. Plotting the ROC Curve"
      ],
      "metadata": {
        "id": "OcXYgNFLCgin"
      },
      "id": "OcXYgNFLCgin"
    },
    {
      "cell_type": "markdown",
      "source": [
        "An ROC curve demonstrates several things:\n",
        "\n",
        "* It shows the tradeoff between sensitivity and specificity (any increase in\n",
        "sensitivity will be accompanied by a decrease in specificity).\n",
        "* The closer the curve follows the left-hand border and then the top border of the ROC space, the more accurate the test.\n",
        "* The closer the curve comes to the 45-degree diagonal of the ROC space, the less accurate the test."
      ],
      "metadata": {
        "id": "jF2jn40KCpDF"
      },
      "id": "jF2jn40KCpDF"
    },
    {
      "cell_type": "code",
      "source": [
        "from sklearn.metrics import roc_auc_score\n",
        "from sklearn.metrics import roc_curve"
      ],
      "metadata": {
        "id": "8P7ybUFRFXs6"
      },
      "id": "8P7ybUFRFXs6",
      "execution_count": 59,
      "outputs": []
    },
    {
      "cell_type": "code",
      "source": [
        "roc_auc_score(y_test ,preds_test) "
      ],
      "metadata": {
        "colab": {
          "base_uri": "https://localhost:8080/"
        },
        "id": "NADSKhHdFe0f",
        "outputId": "ead00bf1-64d7-42e7-88f1-00146c6aefd9"
      },
      "id": "NADSKhHdFe0f",
      "execution_count": 60,
      "outputs": [
        {
          "output_type": "execute_result",
          "data": {
            "text/plain": [
              "0.7642051197236157"
            ]
          },
          "metadata": {},
          "execution_count": 60
        }
      ]
    },
    {
      "cell_type": "code",
      "source": [
        "pred_prob = lr_model.predict_proba(x_test)"
      ],
      "metadata": {
        "id": "P01bN8D3FelG"
      },
      "id": "P01bN8D3FelG",
      "execution_count": 61,
      "outputs": []
    },
    {
      "cell_type": "code",
      "source": [
        "fpr , tpr , ther = roc_curve(y_test , pred_prob[:, 1])"
      ],
      "metadata": {
        "id": "ULrUsuoFFebj"
      },
      "id": "ULrUsuoFFebj",
      "execution_count": 62,
      "outputs": []
    },
    {
      "cell_type": "code",
      "source": [
        "plt.plot(fpr , tpr , color = \"g\")\n",
        "plt.xlabel(\"False Positive Ratio or [1 - True Negative Rate]\")\n",
        "plt.ylabel(\"True Positive Ratio\")\n",
        "plt.title(\"Receiver operating characteristic\")\n",
        "plt.grid()\n",
        "plt.text(x = .5 ,y =.5 , s = \"Auroc is 0.7642\")"
      ],
      "metadata": {
        "colab": {
          "base_uri": "https://localhost:8080/",
          "height": 313
        },
        "id": "3qgIw8SyDwQd",
        "outputId": "8a047b67-3d28-4ee4-db77-f5a855ec22bb"
      },
      "id": "3qgIw8SyDwQd",
      "execution_count": 67,
      "outputs": [
        {
          "output_type": "execute_result",
          "data": {
            "text/plain": [
              "Text(0.5, 0.5, 'Auroc is 0.7642')"
            ]
          },
          "metadata": {},
          "execution_count": 67
        },
        {
          "output_type": "display_data",
          "data": {
            "text/plain": [
              "<Figure size 432x288 with 1 Axes>"
            ],
            "image/png": "[encoded data removed]"
          },
          "metadata": {
            "needs_background": "light"
          }
        }
      ]
    },
    {
      "cell_type": "markdown",
      "id": "d55b458b",
      "metadata": {
        "papermill": {
          "duration": 0.018053,
          "end_time": "2022-11-24T17:55:04.504787",
          "exception": false,
          "start_time": "2022-11-24T17:55:04.486734",
          "status": "completed"
        },
        "tags": [],
        "id": "d55b458b"
      },
      "source": [
        "# Conclusion\n",
        "As we are more focused on who cancels their subscriptions. We placed more importance on the Recall compared to the Precision. This is because a false negative which is means they are still on subscription is more costly than a false positve which is that they have churned. \n",
        "\n",
        "With the former if we find that a person has churned but the mdoel precdicted that they did not we lose money but with the latter if we predicted that they had churned but they did not we do not lose as much as in the former case.\n",
        "\n",
        "Given this I believe the XGB model performs the best despite the underfitting.\n"
      ]
    },
    {
      "cell_type": "markdown",
      "source": [
        "## Thank You "
      ],
      "metadata": {
        "id": "qf4kK8vrB-vf"
      },
      "id": "qf4kK8vrB-vf"
    }
  ],
  "metadata": {
    "kernelspec": {
      "display_name": "Python 3",
      "language": "python",
      "name": "python3"
    },
    "language_info": {
      "codemirror_mode": {
        "name": "ipython",
        "version": 3
      },
      "file_extension": ".py",
      "mimetype": "text/x-python",
      "name": "python",
      "nbconvert_exporter": "python",
      "pygments_lexer": "ipython3",
      "version": "3.7.12"
    },
    "papermill": {
      "default_parameters": {},
      "duration": 175.661313,
      "end_time": "2022-11-24T17:55:05.380979",
      "environment_variables": {},
      "exception": null,
      "input_path": "__notebook__.ipynb",
      "output_path": "__notebook__.ipynb",
      "parameters": {},
      "start_time": "2022-11-24T17:52:09.719666",
      "version": "2.3.4"
    },
    "colab": {
      "provenance": []
    }
  },
  "nbformat": 4,
  "nbformat_minor": 5
}